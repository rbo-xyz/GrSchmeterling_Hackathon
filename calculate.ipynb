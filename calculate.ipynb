{
 "cells": [
  {
   "cell_type": "code",
   "execution_count": 1,
   "id": "44f50915",
   "metadata": {},
   "outputs": [],
   "source": [
    "import geopandas as gpd\n",
    "import math"
   ]
  },
  {
   "cell_type": "code",
   "execution_count": 14,
   "id": "740c257b",
   "metadata": {},
   "outputs": [
    {
     "data": {
      "text/html": [
       "<div>\n",
       "<style scoped>\n",
       "    .dataframe tbody tr th:only-of-type {\n",
       "        vertical-align: middle;\n",
       "    }\n",
       "\n",
       "    .dataframe tbody tr th {\n",
       "        vertical-align: top;\n",
       "    }\n",
       "\n",
       "    .dataframe thead th {\n",
       "        text-align: right;\n",
       "    }\n",
       "</style>\n",
       "<table border=\"1\" class=\"dataframe\">\n",
       "  <thead>\n",
       "    <tr style=\"text-align: right;\">\n",
       "      <th></th>\n",
       "      <th>Abschnittsname</th>\n",
       "      <th>Von</th>\n",
       "      <th>Nach</th>\n",
       "      <th>geometry</th>\n",
       "    </tr>\n",
       "  </thead>\n",
       "  <tbody>\n",
       "    <tr>\n",
       "      <th>0</th>\n",
       "      <td>Station A – Station B</td>\n",
       "      <td>Station A</td>\n",
       "      <td>Station B</td>\n",
       "      <td>LINESTRING Z (2650000 1140000 800, 2650100 114...</td>\n",
       "    </tr>\n",
       "    <tr>\n",
       "      <th>1</th>\n",
       "      <td>Station B – Station C</td>\n",
       "      <td>Station B</td>\n",
       "      <td>Station C</td>\n",
       "      <td>LINESTRING Z (2650500 1140400 880, 2650600 114...</td>\n",
       "    </tr>\n",
       "  </tbody>\n",
       "</table>\n",
       "</div>"
      ],
      "text/plain": [
       "          Abschnittsname        Von       Nach  \\\n",
       "0  Station A – Station B  Station A  Station B   \n",
       "1  Station B – Station C  Station B  Station C   \n",
       "\n",
       "                                            geometry  \n",
       "0  LINESTRING Z (2650000 1140000 800, 2650100 114...  \n",
       "1  LINESTRING Z (2650500 1140400 880, 2650600 114...  "
      ]
     },
     "execution_count": 14,
     "metadata": {},
     "output_type": "execute_result"
    }
   ],
   "source": [
    "#dummydataframe für test\n",
    "\n",
    "import geopandas as gpd\n",
    "import pandas as pd\n",
    "from shapely.geometry import LineString\n",
    "\n",
    "# Beispielhafte Daten\n",
    "daten = [\n",
    "    {\n",
    "        \"Abschnittsname\": \"Station A – Station B\",\n",
    "        \"Von\": \"Station A\",\n",
    "        \"Nach\": \"Station B\",\n",
    "        \"geometry\": LineString([\n",
    "            (2650000, 1140000, 800),\n",
    "            (2650100, 1140100, 820),\n",
    "            (2650200, 1140150, 850),\n",
    "            (2650300, 1140200, 860),\n",
    "            (2650400, 1140300, 870),\n",
    "            (2650500, 1140400, 880),\n",
    "        ])\n",
    "    },\n",
    "    {\n",
    "        \"Abschnittsname\": \"Station B – Station C\",\n",
    "        \"Von\": \"Station B\",\n",
    "        \"Nach\": \"Station C\",\n",
    "        \"geometry\": LineString([\n",
    "            (2650500, 1140400, 880),\n",
    "            (2650600, 1140350, 860),\n",
    "            (2650700, 1140300, 840),\n",
    "            (2650800, 1140250, 820),\n",
    "            (2650900, 1140200, 800),\n",
    "            (2651000, 1140100, 780),\n",
    "        ])\n",
    "    },\n",
    "]\n",
    "\n",
    "# Erstellen des GeoDataFrames\n",
    "gdf = gpd.GeoDataFrame(daten, crs=\"EPSG:2056\")\n",
    "\n",
    "gdf\n"
   ]
  },
  {
   "cell_type": "code",
   "execution_count": 16,
   "id": "fc0aa060",
   "metadata": {},
   "outputs": [
    {
     "data": {
      "text/html": [
       "<div>\n",
       "<style scoped>\n",
       "    .dataframe tbody tr th:only-of-type {\n",
       "        vertical-align: middle;\n",
       "    }\n",
       "\n",
       "    .dataframe tbody tr th {\n",
       "        vertical-align: top;\n",
       "    }\n",
       "\n",
       "    .dataframe thead th {\n",
       "        text-align: right;\n",
       "    }\n",
       "</style>\n",
       "<table border=\"1\" class=\"dataframe\">\n",
       "  <thead>\n",
       "    <tr style=\"text-align: right;\">\n",
       "      <th></th>\n",
       "      <th>Abschnittsname</th>\n",
       "      <th>Von</th>\n",
       "      <th>Nach</th>\n",
       "      <th>geometry</th>\n",
       "      <th>Laenge [km]</th>\n",
       "    </tr>\n",
       "  </thead>\n",
       "  <tbody>\n",
       "    <tr>\n",
       "      <th>0</th>\n",
       "      <td>Station A – Station B</td>\n",
       "      <td>Station A</td>\n",
       "      <td>Station B</td>\n",
       "      <td>LINESTRING Z (2650000 1140000 800, 2650100 114...</td>\n",
       "      <td>0.647871</td>\n",
       "    </tr>\n",
       "    <tr>\n",
       "      <th>1</th>\n",
       "      <td>Station B – Station C</td>\n",
       "      <td>Station B</td>\n",
       "      <td>Station C</td>\n",
       "      <td>LINESTRING Z (2650500 1140400 880, 2650600 114...</td>\n",
       "      <td>0.588635</td>\n",
       "    </tr>\n",
       "  </tbody>\n",
       "</table>\n",
       "</div>"
      ],
      "text/plain": [
       "          Abschnittsname        Von       Nach  \\\n",
       "0  Station A – Station B  Station A  Station B   \n",
       "1  Station B – Station C  Station B  Station C   \n",
       "\n",
       "                                            geometry  Laenge [km]  \n",
       "0  LINESTRING Z (2650000 1140000 800, 2650100 114...     0.647871  \n",
       "1  LINESTRING Z (2650500 1140400 880, 2650600 114...     0.588635  "
      ]
     },
     "execution_count": 16,
     "metadata": {},
     "output_type": "execute_result"
    }
   ],
   "source": [
    "#berechnet die Länge der Geometrie in Kilometer aus dem Linestring\n",
    "gdf[\"Laenge [km]\"] = gdf.length/1000\n",
    "gdf"
   ]
  }
 ],
 "metadata": {
  "kernelspec": {
   "display_name": "4040_GP2_Hackathon",
   "language": "python",
   "name": "python3"
  },
  "language_info": {
   "codemirror_mode": {
    "name": "ipython",
    "version": 3
   },
   "file_extension": ".py",
   "mimetype": "text/x-python",
   "name": "python",
   "nbconvert_exporter": "python",
   "pygments_lexer": "ipython3",
   "version": "3.13.2"
  }
 },
 "nbformat": 4,
 "nbformat_minor": 5
}
