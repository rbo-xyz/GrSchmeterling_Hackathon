{
 "cells": [
  {
   "cell_type": "code",
   "execution_count": 11,
   "id": "e51a8700",
   "metadata": {},
   "outputs": [],
   "source": [
    "import geopandas as gpd\n",
    "from shapely.geometry import Point, LineString\n",
    "import gpxpy\n",
    "from pyproj import Transformer\n",
    "\n",
    "transformer = Transformer.from_crs(\"EPSG:4326\", \"EPSG:2056\", always_xy=True)"
   ]
  },
  {
   "cell_type": "code",
   "execution_count": 5,
   "id": "f09b4f5c",
   "metadata": {},
   "outputs": [],
   "source": [
    "filepath = \"../data/7-gipfel-tour-flumserberg.gpx\""
   ]
  },
  {
   "cell_type": "code",
   "execution_count": null,
   "id": "527b9c78",
   "metadata": {},
   "outputs": [
    {
     "data": {
      "text/html": [
       "<div>\n",
       "<style scoped>\n",
       "    .dataframe tbody tr th:only-of-type {\n",
       "        vertical-align: middle;\n",
       "    }\n",
       "\n",
       "    .dataframe tbody tr th {\n",
       "        vertical-align: top;\n",
       "    }\n",
       "\n",
       "    .dataframe thead th {\n",
       "        text-align: right;\n",
       "    }\n",
       "</style>\n",
       "<table border=\"1\" class=\"dataframe\">\n",
       "  <thead>\n",
       "    <tr style=\"text-align: right;\">\n",
       "      <th></th>\n",
       "      <th>swisstopo_waypoint_id</th>\n",
       "      <th>name</th>\n",
       "      <th>geometry</th>\n",
       "    </tr>\n",
       "  </thead>\n",
       "  <tbody>\n",
       "    <tr>\n",
       "      <th>0</th>\n",
       "      <td>1</td>\n",
       "      <td>Startpunkt</td>\n",
       "      <td>POINT Z (2737832.731 1214786.689 1974.2)</td>\n",
       "    </tr>\n",
       "    <tr>\n",
       "      <th>1</th>\n",
       "      <td>2</td>\n",
       "      <td>Ziel</td>\n",
       "      <td>POINT Z (2739850.838 1217402.568 1379.8)</td>\n",
       "    </tr>\n",
       "  </tbody>\n",
       "</table>\n",
       "</div>"
      ],
      "text/plain": [
       "   swisstopo_waypoint_id        name                                  geometry\n",
       "0                      1  Startpunkt  POINT Z (2737832.731 1214786.689 1974.2)\n",
       "1                      2        Ziel  POINT Z (2739850.838 1217402.568 1379.8)"
      ]
     },
     "execution_count": 23,
     "metadata": {},
     "output_type": "execute_result"
    }
   ],
   "source": [
    "gdf_waypoints = gpd.read_file(path_v2, layer=\"waypoints\", driver=\"GPX\")\n",
    "\n",
    "gdf_waypoints = gdf_waypoints.set_crs(epsg=4326).to_crs(epsg=2056)\n",
    "\n",
    "pts_3d = [Point(x, y, z) for x, y, z in zip(gdf_waypoints.geometry.x, gdf_waypoints.geometry.y, gdf_waypoints[\"ele\"])]\n",
    "\n",
    "gdf_waypoints = gdf_waypoints.set_geometry(pts_3d, crs=gdf_waypoints.crs)\n",
    "\n",
    "gdf_waypoints = gdf_waypoints[[\"swisstopo_waypoint_id\", \"name\", \"geometry\"]]\n",
    "\n",
    "gdf_waypoints"
   ]
  },
  {
   "cell_type": "code",
   "execution_count": null,
   "id": "d55661a4",
   "metadata": {},
   "outputs": [
    {
     "data": {
      "text/html": [
       "<div>\n",
       "<style scoped>\n",
       "    .dataframe tbody tr th:only-of-type {\n",
       "        vertical-align: middle;\n",
       "    }\n",
       "\n",
       "    .dataframe tbody tr th {\n",
       "        vertical-align: top;\n",
       "    }\n",
       "\n",
       "    .dataframe thead th {\n",
       "        text-align: right;\n",
       "    }\n",
       "</style>\n",
       "<table border=\"1\" class=\"dataframe\">\n",
       "  <thead>\n",
       "    <tr style=\"text-align: right;\">\n",
       "      <th></th>\n",
       "      <th>geometry</th>\n",
       "    </tr>\n",
       "  </thead>\n",
       "  <tbody>\n",
       "    <tr>\n",
       "      <th>0</th>\n",
       "      <td>LINESTRING Z (2737832.731 1214786.689 1974.2, ...</td>\n",
       "    </tr>\n",
       "  </tbody>\n",
       "</table>\n",
       "</div>"
      ],
      "text/plain": [
       "                                            geometry\n",
       "0  LINESTRING Z (2737832.731 1214786.689 1974.2, ..."
      ]
     },
     "execution_count": 22,
     "metadata": {},
     "output_type": "execute_result"
    }
   ],
   "source": [
    "\n",
    "\n",
    "lines_lv95 = []\n",
    "\n",
    "with open(path_v2, 'r', encoding='utf-8') as gpx_file:\n",
    "    gpx = gpxpy.parse(gpx_file)\n",
    "\n",
    "    for track in gpx.tracks:\n",
    "        for segment in track.segments:\n",
    "            # für jeden Segment eine eigene Koordinatenliste\n",
    "            coords = []\n",
    "            for pt in segment.points:\n",
    "                lon, lat, elev = pt.longitude, pt.latitude, pt.elevation or 0.0\n",
    "                e, n = transformer.transform(lon, lat)\n",
    "                coords.append((e, n, elev))\n",
    "            # 3D-LineString erzeugen\n",
    "            lines_lv95.append(LineString(coords))\n",
    "\n",
    "# GeoDataFrame erstellen\n",
    "gdf_lines = gpd.GeoDataFrame(\n",
    "    { \"geometry\": lines_lv95 },\n",
    "    crs=\"EPSG:2056\"   # LV95\n",
    ")\n",
    "\n",
    "gdf_lines"
   ]
  },
  {
   "cell_type": "code",
   "execution_count": 49,
   "id": "31bb879b",
   "metadata": {},
   "outputs": [],
   "source": [
    "\n",
    "## Erstellung Waypoints GeoDataFrame\n",
    "gdf_waypoints = gpd.read_file(filepath, layer=\"waypoints\", driver=\"GPX\")\n",
    "gdf_waypoints = gdf_waypoints.set_crs(epsg=4326).to_crs(epsg=2056)\n",
    "pts_3d = [Point(x, y, z) for x, y, z in zip(gdf_waypoints.geometry.x, gdf_waypoints.geometry.y, gdf_waypoints[\"ele\"])]\n",
    "gdf_waypoints = gdf_waypoints.set_geometry(pts_3d, crs=gdf_waypoints.crs)[[\"swisstopo_waypoint_id\", \"name\", \"geometry\"]]\n",
    "gdf_waypoints.rename(columns={\"swisstopo_waypoint_id\": \"id\"}, inplace=True)\n",
    "\n",
    "## Erstellung des Tracks GeoDataFrames\n",
    "lines_lv95 = []\n",
    "identifier_segment = 0\n",
    "identifier_list = []\n",
    "\n",
    "with open(filepath, 'r', encoding='utf-8') as gpx_file:\n",
    "    gpx = gpxpy.parse(gpx_file)\n",
    "    for track in gpx.tracks:\n",
    "        for segment in track.segments:\n",
    "            coords = []\n",
    "            identifier_segment += 1\n",
    "            for pt in segment.points:\n",
    "                lon, lat, elev = pt.longitude, pt.latitude, pt.elevation or 0.0\n",
    "                e, n = transformer.transform(lon, lat)\n",
    "                coords.append((e, n, elev))\n",
    "            # 3D-LineString erzeugen\n",
    "            lines_lv95.append(LineString(coords))\n",
    "            identifier_list.append(identifier_segment)\n",
    "\n",
    "gdf_lines = gpd.GeoDataFrame(\n",
    "    {\"id\": identifier_list, \"geometry\": lines_lv95},\n",
    "    crs=\"EPSG:2056\"   # LV95\n",
    ")\n",
    "\n",
    "\n",
    "## Erstellung des Ausgabe GeoDataFrames\n"
   ]
  },
  {
   "cell_type": "code",
   "execution_count": 50,
   "id": "19019421",
   "metadata": {},
   "outputs": [
    {
     "data": {
      "text/html": [
       "<div>\n",
       "<style scoped>\n",
       "    .dataframe tbody tr th:only-of-type {\n",
       "        vertical-align: middle;\n",
       "    }\n",
       "\n",
       "    .dataframe tbody tr th {\n",
       "        vertical-align: top;\n",
       "    }\n",
       "\n",
       "    .dataframe thead th {\n",
       "        text-align: right;\n",
       "    }\n",
       "</style>\n",
       "<table border=\"1\" class=\"dataframe\">\n",
       "  <thead>\n",
       "    <tr style=\"text-align: right;\">\n",
       "      <th></th>\n",
       "      <th>id</th>\n",
       "      <th>name</th>\n",
       "      <th>geometry</th>\n",
       "    </tr>\n",
       "  </thead>\n",
       "  <tbody>\n",
       "    <tr>\n",
       "      <th>0</th>\n",
       "      <td>1</td>\n",
       "      <td>Startpunkt</td>\n",
       "      <td>POINT Z (2737832.731 1214786.689 1974.2)</td>\n",
       "    </tr>\n",
       "    <tr>\n",
       "      <th>1</th>\n",
       "      <td>2</td>\n",
       "      <td>Ziel</td>\n",
       "      <td>POINT Z (2739850.838 1217402.568 1379.8)</td>\n",
       "    </tr>\n",
       "  </tbody>\n",
       "</table>\n",
       "</div>"
      ],
      "text/plain": [
       "   id        name                                  geometry\n",
       "0   1  Startpunkt  POINT Z (2737832.731 1214786.689 1974.2)\n",
       "1   2        Ziel  POINT Z (2739850.838 1217402.568 1379.8)"
      ]
     },
     "execution_count": 50,
     "metadata": {},
     "output_type": "execute_result"
    }
   ],
   "source": [
    "gdf_waypoints\n"
   ]
  },
  {
   "cell_type": "code",
   "execution_count": 51,
   "id": "8572fa1d",
   "metadata": {},
   "outputs": [
    {
     "data": {
      "text/html": [
       "<div>\n",
       "<style scoped>\n",
       "    .dataframe tbody tr th:only-of-type {\n",
       "        vertical-align: middle;\n",
       "    }\n",
       "\n",
       "    .dataframe tbody tr th {\n",
       "        vertical-align: top;\n",
       "    }\n",
       "\n",
       "    .dataframe thead th {\n",
       "        text-align: right;\n",
       "    }\n",
       "</style>\n",
       "<table border=\"1\" class=\"dataframe\">\n",
       "  <thead>\n",
       "    <tr style=\"text-align: right;\">\n",
       "      <th></th>\n",
       "      <th>id</th>\n",
       "      <th>geometry</th>\n",
       "    </tr>\n",
       "  </thead>\n",
       "  <tbody>\n",
       "    <tr>\n",
       "      <th>0</th>\n",
       "      <td>1</td>\n",
       "      <td>LINESTRING Z (2737832.731 1214786.689 1974.2, ...</td>\n",
       "    </tr>\n",
       "  </tbody>\n",
       "</table>\n",
       "</div>"
      ],
      "text/plain": [
       "   id                                           geometry\n",
       "0   1  LINESTRING Z (2737832.731 1214786.689 1974.2, ..."
      ]
     },
     "execution_count": 51,
     "metadata": {},
     "output_type": "execute_result"
    }
   ],
   "source": [
    "gdf_lines"
   ]
  },
  {
   "cell_type": "code",
   "execution_count": 68,
   "id": "484b49cb",
   "metadata": {},
   "outputs": [],
   "source": [
    "import geopandas as gpd\n",
    "from shapely.geometry import Point\n",
    "\n",
    "def attach_waypoints_to_lines(gdf_lines: gpd.GeoDataFrame,\n",
    "                              gdf_waypoints: gpd.GeoDataFrame):\n",
    "\n",
    "    ## Lines GeoDataFrame unbennene und angleichen an Waypoints GeoDataFrame\n",
    "    gdf = (\n",
    "        gdf_lines\n",
    "        .rename(columns={\"id\": \"segment_id\"})\n",
    "        .copy()\n",
    "        .set_geometry(\"geometry\")\n",
    "        .rename_geometry(\"segment_geom\")\n",
    "        .to_crs(gdf_waypoints.crs)\n",
    "    )\n",
    "\n",
    "    ## Start und endpunkt extrahieren\n",
    "    gdf[\"von_pkt_geom\"] = gdf.segment_geom.apply(lambda ln: Point(*ln.coords[0]))\n",
    "    gdf[\"bis_pkt_geom\"] = gdf.segment_geom.apply(lambda ln: Point(*ln.coords[-1]))\n",
    "\n",
    "    ## Erstellung der GeoDataFrames der Start und Endpunkte der Linien\n",
    "    gdf_v = gdf[[\"segment_id\", \"von_pkt_geom\"]].set_geometry(\"von_pkt_geom\")\n",
    "    gdf_b = gdf[[\"segment_id\", \"bis_pkt_geom\"]].set_geometry(\"bis_pkt_geom\")\n",
    "    gdf_v.crs = gdf.crs\n",
    "    gdf_b.crs = gdf.crs\n",
    "\n",
    "    ## Joins erstellen\n",
    "    sj_v = (\n",
    "        gpd.sjoin_nearest(\n",
    "            gdf_v,\n",
    "            gdf_waypoints[[\"id\", \"name\", \"geometry\"]],\n",
    "            how=\"left\"\n",
    "        )\n",
    "        .rename(columns={\"id\": \"von_pkt_id\", \"name\": \"von_pkt_name\"})\n",
    "        .drop(columns=[\"index_right\"])\n",
    "    )\n",
    "\n",
    "    sj_b = (\n",
    "        gpd.sjoin_nearest(\n",
    "            gdf_b,\n",
    "            gdf_waypoints[[\"id\", \"name\", \"geometry\"]],\n",
    "            how=\"left\"\n",
    "        )\n",
    "        .rename(columns={\"id\": \"bis_pkt_id\", \"name\": \"bis_pkt_name\"})\n",
    "        .drop(columns=[\"index_right\"])\n",
    "    )\n",
    "\n",
    "    ## Merge der Waypoints in die Linien GeoDataFrame\n",
    "    df = (\n",
    "        gdf\n",
    "        .merge(sj_v[[\"segment_id\", \"von_pkt_name\"]], on=\"segment_id\", how=\"left\")\n",
    "        .merge(sj_b[[\"segment_id\", \"bis_pkt_name\"]], on=\"segment_id\", how=\"left\")\n",
    "    )\n",
    "\n",
    "    ## Resultat-GeoDataFrame\n",
    "    out = df[[\n",
    "        \"segment_id\",\n",
    "        \"von_pkt_name\", \"von_pkt_geom\",\n",
    "        \"bis_pkt_name\", \"bis_pkt_geom\",\n",
    "        \"segment_geom\"\n",
    "    ]]\n",
    "\n",
    "    out[\"segment_id\"]     = out[\"segment_id\"].astype(\"Int32\")\n",
    "    out[\"von_pkt_name\"]   = out[\"von_pkt_name\"].astype(str)\n",
    "    out[\"bis_pkt_name\"]   = out[\"bis_pkt_name\"].astype(str)\n",
    "\n",
    "    return gpd.GeoDataFrame(out, geometry=\"segment_geom\", crs=gdf.crs)\n"
   ]
  },
  {
   "cell_type": "code",
   "execution_count": 69,
   "id": "51caeb43",
   "metadata": {},
   "outputs": [
    {
     "name": "stdout",
     "output_type": "stream",
     "text": [
      "<class 'geopandas.geodataframe.GeoDataFrame'>\n",
      "RangeIndex: 1 entries, 0 to 0\n",
      "Data columns (total 6 columns):\n",
      " #   Column        Non-Null Count  Dtype   \n",
      "---  ------        --------------  -----   \n",
      " 0   segment_id    1 non-null      Int32   \n",
      " 1   von_pkt_name  1 non-null      object  \n",
      " 2   von_pkt_geom  1 non-null      geometry\n",
      " 3   bis_pkt_name  1 non-null      object  \n",
      " 4   bis_pkt_geom  1 non-null      geometry\n",
      " 5   segment_geom  1 non-null      geometry\n",
      "dtypes: Int32(1), geometry(3), object(2)\n",
      "memory usage: 177.0+ bytes\n"
     ]
    }
   ],
   "source": [
    "result = attach_waypoints_to_lines(\n",
    "    gdf_lines=gdf_lines,\n",
    "    gdf_waypoints=gdf_waypoints\n",
    ")\n",
    "\n",
    "result.info()"
   ]
  }
 ],
 "metadata": {
  "kernelspec": {
   "display_name": "4040Hackathon_py313",
   "language": "python",
   "name": "python3"
  },
  "language_info": {
   "codemirror_mode": {
    "name": "ipython",
    "version": 3
   },
   "file_extension": ".py",
   "mimetype": "text/x-python",
   "name": "python",
   "nbconvert_exporter": "python",
   "pygments_lexer": "ipython3",
   "version": "3.13.2"
  }
 },
 "nbformat": 4,
 "nbformat_minor": 5
}
