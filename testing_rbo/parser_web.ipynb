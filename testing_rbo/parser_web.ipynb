{
 "cells": [
  {
   "cell_type": "code",
   "execution_count": 2,
   "id": "bb6c32bf",
   "metadata": {},
   "outputs": [],
   "source": [
    "import geopandas as gpd\n",
    "import requests\n",
    "from shapely.geometry import Point, LineString, MultiPoint, MultiLineString\n",
    "from shapely.ops import linemerge, split\n",
    "import numpy as np"
   ]
  },
  {
   "cell_type": "code",
   "execution_count": 3,
   "id": "e06d7c2f",
   "metadata": {},
   "outputs": [],
   "source": [
    "filepath = \"../data/map.geo.admin.ch_GPX_20250522075309.gpx\""
   ]
  },
  {
   "cell_type": "code",
   "execution_count": 4,
   "id": "34eff96f",
   "metadata": {},
   "outputs": [],
   "source": [
    "def get_height(easting: float, \n",
    "               northing: float, \n",
    "               max_retries: int = 3):\n",
    "    \"\"\"\n",
    "    Fragt die Höhe für einen Punkt (in LV95) bei der Swisstopo-API ab\n",
    "    und gibt sie als float zurück.\n",
    "    \"\"\"\n",
    "    HEIGHT_URL = \"https://api3.geo.admin.ch/rest/services/height\"\n",
    "    params = {\"easting\": easting, \"northing\": northing}\n",
    "    for attempt in range(max_retries):\n",
    "        r = requests.get(HEIGHT_URL, params=params, timeout=5)\n",
    "        if r.status_code == 200:\n",
    "            return r.json()[\"height\"]\n",
    "    r.raise_for_status()\n"
   ]
  },
  {
   "cell_type": "code",
   "execution_count": 5,
   "id": "d230d574",
   "metadata": {},
   "outputs": [],
   "source": [
    "def to_3d_Point(pt: Point):\n",
    "    z = get_height(pt.x, pt.y)\n",
    "    return Point(pt.x, pt.y, z) "
   ]
  },
  {
   "cell_type": "code",
   "execution_count": 6,
   "id": "51a4eb2a",
   "metadata": {},
   "outputs": [],
   "source": [
    "def densify(linestring: LineString, \n",
    "            interval: float = 100.0):\n",
    "    \n",
    "    total_len = linestring.length\n",
    "    orig_dists = [linestring.project(Point(x, y)) for x, y in linestring.coords]\n",
    "    regular_dists = list(np.arange(0, total_len, interval))\n",
    "    regular_dists.append(total_len)\n",
    "    all_dists = sorted(set(orig_dists + regular_dists))\n",
    "    pts = [linestring.interpolate(d) for d in all_dists]\n",
    "\n",
    "    return LineString([(p.x, p.y) for p in pts])"
   ]
  },
  {
   "cell_type": "code",
   "execution_count": 7,
   "id": "5fce6c9c",
   "metadata": {},
   "outputs": [],
   "source": [
    "\n",
    "## Erstellung Waypoints GeoDataFrame\n",
    "gdf_waypoints = gpd.read_file(filepath, layer=\"waypoints\", driver=\"GPX\")\n",
    "gdf_waypoints['id'] = range(1, len(gdf_waypoints)+1)\n",
    "gdf_waypoints = gdf_waypoints.set_crs(epsg=4326, allow_override=True).to_crs(epsg=2056)\n",
    "gdf_waypoints[\"geometry\"] = gdf_waypoints.geometry.apply(to_3d_Point)\n",
    "gdf_waypoints = gdf_waypoints[[\"id\",\"name\", \"geometry\"]]\n",
    "\n",
    "## Erstellung des MultiLine Tracks GeoDataFrame\n",
    "gdf_routes = gpd.read_file(filepath, layer=\"routes\", driver=\"GPX\")\n",
    "gdf_routes = gdf_routes.set_crs(epsg=4326, allow_override=True).to_crs(epsg=2056)\n",
    "gdf_routes = gdf_routes[[\"geometry\"]]\n",
    "mls = MultiLineString(gdf_routes.geometry.tolist())\n",
    "merged  = linemerge(mls)\n",
    "\n",
    "\n",
    "## Aufteilen der Linie in Segmente gemäss den Waypoints\n",
    "points = gdf_waypoints.geometry.to_list()\n",
    "projected = [merged.interpolate(merged.project(pt)) for pt in points]\n",
    "mp = MultiPoint(projected)\n",
    "pieces = split(merged, mp)\n",
    "segments = list(pieces.geoms)\n",
    "gdf_lines = gpd.GeoDataFrame(\n",
    "    {'geometry': segments}\n",
    ")\n",
    "\n",
    "## Weitere Stützpunkte den Linestrings hinzufügen\n",
    "gdf_lines['geometry'] = gdf_lines.geometry.apply(lambda ln: densify(ln, interval=100.0))"
   ]
  },
  {
   "cell_type": "code",
   "execution_count": 8,
   "id": "d1f939c2",
   "metadata": {},
   "outputs": [
    {
     "data": {
      "text/html": [
       "<div>\n",
       "<style scoped>\n",
       "    .dataframe tbody tr th:only-of-type {\n",
       "        vertical-align: middle;\n",
       "    }\n",
       "\n",
       "    .dataframe tbody tr th {\n",
       "        vertical-align: top;\n",
       "    }\n",
       "\n",
       "    .dataframe thead th {\n",
       "        text-align: right;\n",
       "    }\n",
       "</style>\n",
       "<table border=\"1\" class=\"dataframe\">\n",
       "  <thead>\n",
       "    <tr style=\"text-align: right;\">\n",
       "      <th></th>\n",
       "      <th>id</th>\n",
       "      <th>name</th>\n",
       "      <th>geometry</th>\n",
       "    </tr>\n",
       "  </thead>\n",
       "  <tbody>\n",
       "    <tr>\n",
       "      <th>0</th>\n",
       "      <td>1</td>\n",
       "      <td>Startpunkt</td>\n",
       "      <td>POINT Z (2615292.286 1264887.924 279.7)</td>\n",
       "    </tr>\n",
       "    <tr>\n",
       "      <th>1</th>\n",
       "      <td>2</td>\n",
       "      <td>Ende</td>\n",
       "      <td>POINT Z (2621085.137 1261293.638 310.5)</td>\n",
       "    </tr>\n",
       "    <tr>\n",
       "      <th>2</th>\n",
       "      <td>3</td>\n",
       "      <td>Hintere Burg</td>\n",
       "      <td>POINT Z (2616488.117 1263427.786 431.5)</td>\n",
       "    </tr>\n",
       "    <tr>\n",
       "      <th>3</th>\n",
       "      <td>4</td>\n",
       "      <td>Mittlere Burg</td>\n",
       "      <td>POINT Z (2616298.894 1263194.66 476.4)</td>\n",
       "    </tr>\n",
       "    <tr>\n",
       "      <th>4</th>\n",
       "      <td>5</td>\n",
       "      <td>Lecker Weinchen</td>\n",
       "      <td>POINT Z (2617072.551 1262557.063 411)</td>\n",
       "    </tr>\n",
       "    <tr>\n",
       "      <th>5</th>\n",
       "      <td>6</td>\n",
       "      <td>Schauenburg</td>\n",
       "      <td>POINT Z (2618037.624 1261126.735 568.2)</td>\n",
       "    </tr>\n",
       "  </tbody>\n",
       "</table>\n",
       "</div>"
      ],
      "text/plain": [
       "   id             name                                 geometry\n",
       "0   1       Startpunkt  POINT Z (2615292.286 1264887.924 279.7)\n",
       "1   2             Ende  POINT Z (2621085.137 1261293.638 310.5)\n",
       "2   3     Hintere Burg  POINT Z (2616488.117 1263427.786 431.5)\n",
       "3   4    Mittlere Burg   POINT Z (2616298.894 1263194.66 476.4)\n",
       "4   5  Lecker Weinchen    POINT Z (2617072.551 1262557.063 411)\n",
       "5   6      Schauenburg  POINT Z (2618037.624 1261126.735 568.2)"
      ]
     },
     "execution_count": 8,
     "metadata": {},
     "output_type": "execute_result"
    }
   ],
   "source": [
    "gdf_waypoints"
   ]
  },
  {
   "cell_type": "code",
   "execution_count": 9,
   "id": "0b3068f3",
   "metadata": {},
   "outputs": [
    {
     "data": {
      "text/html": [
       "<div>\n",
       "<style scoped>\n",
       "    .dataframe tbody tr th:only-of-type {\n",
       "        vertical-align: middle;\n",
       "    }\n",
       "\n",
       "    .dataframe tbody tr th {\n",
       "        vertical-align: top;\n",
       "    }\n",
       "\n",
       "    .dataframe thead th {\n",
       "        text-align: right;\n",
       "    }\n",
       "</style>\n",
       "<table border=\"1\" class=\"dataframe\">\n",
       "  <thead>\n",
       "    <tr style=\"text-align: right;\">\n",
       "      <th></th>\n",
       "      <th>geometry</th>\n",
       "    </tr>\n",
       "  </thead>\n",
       "  <tbody>\n",
       "    <tr>\n",
       "      <th>0</th>\n",
       "      <td>LINESTRING (2615292.286 1264887.924, 2615373.6...</td>\n",
       "    </tr>\n",
       "    <tr>\n",
       "      <th>1</th>\n",
       "      <td>LINESTRING (2616488.117 1263427.786, 2616489.0...</td>\n",
       "    </tr>\n",
       "    <tr>\n",
       "      <th>2</th>\n",
       "      <td>LINESTRING (2616298.894 1263194.66, 2616310.18...</td>\n",
       "    </tr>\n",
       "    <tr>\n",
       "      <th>3</th>\n",
       "      <td>LINESTRING (2617072.551 1262557.063, 2617169.8...</td>\n",
       "    </tr>\n",
       "    <tr>\n",
       "      <th>4</th>\n",
       "      <td>LINESTRING (2618037.624 1261126.735, 2618074.5...</td>\n",
       "    </tr>\n",
       "  </tbody>\n",
       "</table>\n",
       "</div>"
      ],
      "text/plain": [
       "                                            geometry\n",
       "0  LINESTRING (2615292.286 1264887.924, 2615373.6...\n",
       "1  LINESTRING (2616488.117 1263427.786, 2616489.0...\n",
       "2  LINESTRING (2616298.894 1263194.66, 2616310.18...\n",
       "3  LINESTRING (2617072.551 1262557.063, 2617169.8...\n",
       "4  LINESTRING (2618037.624 1261126.735, 2618074.5..."
      ]
     },
     "execution_count": 9,
     "metadata": {},
     "output_type": "execute_result"
    }
   ],
   "source": [
    "gdf_lines"
   ]
  },
  {
   "cell_type": "code",
   "execution_count": 12,
   "id": "99ed0f98",
   "metadata": {},
   "outputs": [
    {
     "data": {
      "image/png": "[encoded data removed]",
      "text/plain": [
       "<Figure size 600x800 with 1 Axes>"
      ]
     },
     "metadata": {},
     "output_type": "display_data"
    }
   ],
   "source": [
    "import matplotlib.pyplot as plt\n",
    "\n",
    "# 1) Deinen (bereits densified) LineString holen\n",
    "dense_line0 = gdf_lines.geometry.iloc[4]\n",
    "\n",
    "# 2) Koordinaten extrahieren\n",
    "# Variante a: mit coords\n",
    "coords = list(dense_line0.coords)     # [(x1,y1), (x2,y2), ...]\n",
    "x_pts, y_pts = zip(*coords)\n",
    "\n",
    "# Variante b: mit .xy\n",
    "# x_pts, y_pts = dense_line0.xy\n",
    "\n",
    "# 3) Plotten\n",
    "fig, ax = plt.subplots(figsize=(6,8))\n",
    "#    erst die Linie\n",
    "x_line, y_line = dense_line0.xy\n",
    "ax.plot(x_line, y_line, '-', lw=2, color='black', label='Linie')\n",
    "#    dann die Punkte\n",
    "ax.scatter(x_pts, y_pts, s=100, c='red', marker='x', label='20 m-Stützpunkte')\n",
    "\n",
    "ax.set_aspect('equal')\n",
    "ax.set_title(\"Densified LineString mit Stützpunkten\")\n",
    "ax.legend()\n",
    "plt.show()\n"
   ]
  }
 ],
 "metadata": {
  "kernelspec": {
   "display_name": "4040Hackathon_py313",
   "language": "python",
   "name": "python3"
  },
  "language_info": {
   "codemirror_mode": {
    "name": "ipython",
    "version": 3
   },
   "file_extension": ".py",
   "mimetype": "text/x-python",
   "name": "python",
   "nbconvert_exporter": "python",
   "pygments_lexer": "ipython3",
   "version": "3.13.2"
  }
 },
 "nbformat": 4,
 "nbformat_minor": 5
}
