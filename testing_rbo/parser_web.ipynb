{
 "cells": [
  {
   "cell_type": "code",
   "execution_count": 18,
   "id": "bb6c32bf",
   "metadata": {},
   "outputs": [],
   "source": [
    "import geopandas as gpd\n",
    "import requests"
   ]
  },
  {
   "cell_type": "code",
   "execution_count": 9,
   "id": "e06d7c2f",
   "metadata": {},
   "outputs": [],
   "source": [
    "filepath = \"../data/map.geo.admin.ch_GPX_20250522075309.gpx\""
   ]
  },
  {
   "cell_type": "code",
   "execution_count": 21,
   "id": "34eff96f",
   "metadata": {},
   "outputs": [],
   "source": [
    "def get_height(easting: float, \n",
    "               northing: float, \n",
    "               max_retries: int = 3):\n",
    "    \"\"\"\n",
    "    Fragt die Höhe für einen Punkt (in LV95) bei der Swisstopo-API ab\n",
    "    und gibt sie als float zurück.\n",
    "    \"\"\"\n",
    "    HEIGHT_URL = \"https://api3.geo.admin.ch/rest/services/height\"\n",
    "    params = {\"easting\": easting, \"northing\": northing}\n",
    "    for attempt in range(max_retries):\n",
    "        r = requests.get(HEIGHT_URL, params=params, timeout=5)\n",
    "        if r.status_code == 200:\n",
    "            return r.json()[\"height\"]\n",
    "    r.raise_for_status()\n"
   ]
  },
  {
   "cell_type": "code",
   "execution_count": 24,
   "id": "5fce6c9c",
   "metadata": {},
   "outputs": [],
   "source": [
    "gdf_waypoints = gpd.read_file(filepath, layer=\"waypoints\", driver=\"GPX\")\n",
    "gdf_waypoints['id'] = range(1, len(gdf_waypoints)+1)\n",
    "gdf_waypoints = gdf_waypoints[[\"id\",\"name\", \"geometry\"]].set_crs(epsg=4326, allow_override=True).to_crs(epsg=2056)"
   ]
  },
  {
   "cell_type": "code",
   "execution_count": 25,
   "id": "d1f939c2",
   "metadata": {},
   "outputs": [
    {
     "data": {
      "text/html": [
       "<div>\n",
       "<style scoped>\n",
       "    .dataframe tbody tr th:only-of-type {\n",
       "        vertical-align: middle;\n",
       "    }\n",
       "\n",
       "    .dataframe tbody tr th {\n",
       "        vertical-align: top;\n",
       "    }\n",
       "\n",
       "    .dataframe thead th {\n",
       "        text-align: right;\n",
       "    }\n",
       "</style>\n",
       "<table border=\"1\" class=\"dataframe\">\n",
       "  <thead>\n",
       "    <tr style=\"text-align: right;\">\n",
       "      <th></th>\n",
       "      <th>id</th>\n",
       "      <th>name</th>\n",
       "      <th>geometry</th>\n",
       "    </tr>\n",
       "  </thead>\n",
       "  <tbody>\n",
       "    <tr>\n",
       "      <th>0</th>\n",
       "      <td>1</td>\n",
       "      <td>Startpunkt</td>\n",
       "      <td>POINT (2615292.286 1264887.924)</td>\n",
       "    </tr>\n",
       "    <tr>\n",
       "      <th>1</th>\n",
       "      <td>2</td>\n",
       "      <td>Ende</td>\n",
       "      <td>POINT (2621085.137 1261293.638)</td>\n",
       "    </tr>\n",
       "    <tr>\n",
       "      <th>2</th>\n",
       "      <td>3</td>\n",
       "      <td>Hintere Burg</td>\n",
       "      <td>POINT (2616488.117 1263427.786)</td>\n",
       "    </tr>\n",
       "    <tr>\n",
       "      <th>3</th>\n",
       "      <td>4</td>\n",
       "      <td>Mittlere Burg</td>\n",
       "      <td>POINT (2616298.894 1263194.66)</td>\n",
       "    </tr>\n",
       "    <tr>\n",
       "      <th>4</th>\n",
       "      <td>5</td>\n",
       "      <td>Lecker Weinchen</td>\n",
       "      <td>POINT (2617072.551 1262557.063)</td>\n",
       "    </tr>\n",
       "    <tr>\n",
       "      <th>5</th>\n",
       "      <td>6</td>\n",
       "      <td>Schauenburg</td>\n",
       "      <td>POINT (2618037.624 1261126.735)</td>\n",
       "    </tr>\n",
       "  </tbody>\n",
       "</table>\n",
       "</div>"
      ],
      "text/plain": [
       "   id             name                         geometry\n",
       "0   1       Startpunkt  POINT (2615292.286 1264887.924)\n",
       "1   2             Ende  POINT (2621085.137 1261293.638)\n",
       "2   3     Hintere Burg  POINT (2616488.117 1263427.786)\n",
       "3   4    Mittlere Burg   POINT (2616298.894 1263194.66)\n",
       "4   5  Lecker Weinchen  POINT (2617072.551 1262557.063)\n",
       "5   6      Schauenburg  POINT (2618037.624 1261126.735)"
      ]
     },
     "execution_count": 25,
     "metadata": {},
     "output_type": "execute_result"
    }
   ],
   "source": [
    "gdf_waypoints"
   ]
  },
  {
   "cell_type": "code",
   "execution_count": null,
   "id": "34c5d753",
   "metadata": {},
   "outputs": [],
   "source": [
    "\n",
    "gdf_routes = gpd.read_file(filepath, layer=\"routes\", driver=\"GPX\")"
   ]
  }
 ],
 "metadata": {
  "kernelspec": {
   "display_name": "4040Hackathon_py313",
   "language": "python",
   "name": "python3"
  },
  "language_info": {
   "codemirror_mode": {
    "name": "ipython",
    "version": 3
   },
   "file_extension": ".py",
   "mimetype": "text/x-python",
   "name": "python",
   "nbconvert_exporter": "python",
   "pygments_lexer": "ipython3",
   "version": "3.13.2"
  }
 },
 "nbformat": 4,
 "nbformat_minor": 5
}
