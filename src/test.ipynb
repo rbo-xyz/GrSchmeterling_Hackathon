{
 "cells": [
  {
   "cell_type": "code",
   "execution_count": 6,
   "id": "67086ec3",
   "metadata": {},
   "outputs": [],
   "source": [
    "from import_gpx import import_gpx"
   ]
  },
  {
   "cell_type": "code",
   "execution_count": 7,
   "id": "ae49d8e4",
   "metadata": {},
   "outputs": [],
   "source": [
    "filepath = \"../data/7-gipfel-tour-flumserberg.gpx\""
   ]
  },
  {
   "cell_type": "code",
   "execution_count": 8,
   "id": "fe43d282",
   "metadata": {},
   "outputs": [],
   "source": [
    "gdf = import_gpx(filepath)"
   ]
  },
  {
   "cell_type": "code",
   "execution_count": 9,
   "id": "107c7729",
   "metadata": {},
   "outputs": [
    {
     "data": {
      "text/html": [
       "<div>\n",
       "<style scoped>\n",
       "    .dataframe tbody tr th:only-of-type {\n",
       "        vertical-align: middle;\n",
       "    }\n",
       "\n",
       "    .dataframe tbody tr th {\n",
       "        vertical-align: top;\n",
       "    }\n",
       "\n",
       "    .dataframe thead th {\n",
       "        text-align: right;\n",
       "    }\n",
       "</style>\n",
       "<table border=\"1\" class=\"dataframe\">\n",
       "  <thead>\n",
       "    <tr style=\"text-align: right;\">\n",
       "      <th></th>\n",
       "      <th>segment_id</th>\n",
       "      <th>von_pkt_name</th>\n",
       "      <th>von_pkt_geom</th>\n",
       "      <th>bis_pkt_name</th>\n",
       "      <th>bis_pkt_geom</th>\n",
       "      <th>segment_geom</th>\n",
       "    </tr>\n",
       "  </thead>\n",
       "  <tbody>\n",
       "    <tr>\n",
       "      <th>0</th>\n",
       "      <td>1</td>\n",
       "      <td>Startpunkt</td>\n",
       "      <td>POINT Z (2737832.731 1214786.689 1974.2)</td>\n",
       "      <td>Ziel</td>\n",
       "      <td>POINT Z (2739850.838 1217402.568 1379.8)</td>\n",
       "      <td>LINESTRING Z (2737832.731 1214786.689 1974.2, ...</td>\n",
       "    </tr>\n",
       "  </tbody>\n",
       "</table>\n",
       "</div>"
      ],
      "text/plain": [
       "   segment_id von_pkt_name                              von_pkt_geom  \\\n",
       "0           1   Startpunkt  POINT Z (2737832.731 1214786.689 1974.2)   \n",
       "\n",
       "  bis_pkt_name                              bis_pkt_geom  \\\n",
       "0         Ziel  POINT Z (2739850.838 1217402.568 1379.8)   \n",
       "\n",
       "                                        segment_geom  \n",
       "0  LINESTRING Z (2737832.731 1214786.689 1974.2, ...  "
      ]
     },
     "execution_count": 9,
     "metadata": {},
     "output_type": "execute_result"
    }
   ],
   "source": [
    "gdf"
   ]
  }
 ],
 "metadata": {
  "kernelspec": {
   "display_name": "4040Hackathon_py313",
   "language": "python",
   "name": "python3"
  },
  "language_info": {
   "codemirror_mode": {
    "name": "ipython",
    "version": 3
   },
   "file_extension": ".py",
   "mimetype": "text/x-python",
   "name": "python",
   "nbconvert_exporter": "python",
   "pygments_lexer": "ipython3",
   "version": "3.13.2"
  }
 },
 "nbformat": 4,
 "nbformat_minor": 5
}
