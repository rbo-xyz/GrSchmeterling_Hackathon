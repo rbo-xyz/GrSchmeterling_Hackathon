{
 "cells": [
  {
   "cell_type": "code",
   "execution_count": null,
   "id": "c5062a75",
   "metadata": {},
   "outputs": [],
   "source": [
    "import sys\n",
    "import os\n",
    "import geopandas as gpd\n",
    "import pandas as pd\n",
    "\n",
    "# Add the parent directory of 'src' to sys.path\n",
    "sys.path.append(os.path.abspath(os.path.join(os.getcwd(), '..')))\n",
    "\n",
    "from src.calculate import calc_leistungskm\n",
    "from src.import_gpx import import_gpx\n",
    "\n",
    "from src.maps import generate_elevation_plot \n",
    "from src.MICHI import export_to_pdf\n"
   ]
  },
  {
   "cell_type": "code",
   "execution_count": 9,
   "id": "e87b9519",
   "metadata": {},
   "outputs": [
    {
     "name": "stderr",
     "output_type": "stream",
     "text": [
      "c:\\Users\\aebim\\anaconda3\\envs\\4040_Hackaton\\lib\\site-packages\\geopandas\\io\\file.py:383: FutureWarning: errors='ignore' is deprecated and will raise in a future version. Use to_datetime without passing `errors` and catch exceptions explicitly instead\n",
      "  as_dt = pd.to_datetime(df[k], errors=\"ignore\")\n",
      "c:\\Users\\aebim\\anaconda3\\envs\\4040_Hackaton\\lib\\site-packages\\geopandas\\geoseries.py:645: FutureWarning: the convert_dtype parameter is deprecated and will be removed in a future version.  Do ``ser.astype(object).apply()`` instead if you want ``convert_dtype=False``.\n",
      "  result = super().apply(func, convert_dtype=convert_dtype, args=args, **kwargs)\n",
      "c:\\Users\\aebim\\anaconda3\\envs\\4040_Hackaton\\lib\\site-packages\\geopandas\\geoseries.py:645: FutureWarning: the convert_dtype parameter is deprecated and will be removed in a future version.  Do ``ser.astype(object).apply()`` instead if you want ``convert_dtype=False``.\n",
      "  result = super().apply(func, convert_dtype=convert_dtype, args=args, **kwargs)\n"
     ]
    }
   ],
   "source": [
    "gpx = import_gpx(\"C:/Users/aebim/Documents/02_Ausbildung/Studium/04_Semester/4040_Geoprogrammieren_II/GrSchmeterling_Hackathon/data/7-gipfel-tour-flumserberg.gpx\")"
   ]
  },
  {
   "cell_type": "code",
   "execution_count": 10,
   "id": "333f1533",
   "metadata": {},
   "outputs": [
    {
     "data": {
      "text/html": [
       "<div>\n",
       "<style scoped>\n",
       "    .dataframe tbody tr th:only-of-type {\n",
       "        vertical-align: middle;\n",
       "    }\n",
       "\n",
       "    .dataframe tbody tr th {\n",
       "        vertical-align: top;\n",
       "    }\n",
       "\n",
       "    .dataframe thead th {\n",
       "        text-align: right;\n",
       "    }\n",
       "</style>\n",
       "<table border=\"1\" class=\"dataframe\">\n",
       "  <thead>\n",
       "    <tr style=\"text-align: right;\">\n",
       "      <th></th>\n",
       "      <th>segment_id</th>\n",
       "      <th>von_pkt_name</th>\n",
       "      <th>von_pkt_geom</th>\n",
       "      <th>bis_pkt_name</th>\n",
       "      <th>bis_pkt_geom</th>\n",
       "      <th>segment_geom</th>\n",
       "    </tr>\n",
       "  </thead>\n",
       "  <tbody>\n",
       "    <tr>\n",
       "      <th>0</th>\n",
       "      <td>1</td>\n",
       "      <td>Startpunkt</td>\n",
       "      <td>POINT Z (2737832.731 1214786.689 1974.200)</td>\n",
       "      <td>Ziel</td>\n",
       "      <td>POINT Z (2739850.838 1217402.568 1379.800)</td>\n",
       "      <td>LINESTRING Z (2737832.731 1214786.689 1974.200...</td>\n",
       "    </tr>\n",
       "  </tbody>\n",
       "</table>\n",
       "</div>"
      ],
      "text/plain": [
       "   segment_id von_pkt_name                                von_pkt_geom  \\\n",
       "0           1   Startpunkt  POINT Z (2737832.731 1214786.689 1974.200)   \n",
       "\n",
       "  bis_pkt_name                                bis_pkt_geom  \\\n",
       "0         Ziel  POINT Z (2739850.838 1217402.568 1379.800)   \n",
       "\n",
       "                                        segment_geom  \n",
       "0  LINESTRING Z (2737832.731 1214786.689 1974.200...  "
      ]
     },
     "execution_count": 10,
     "metadata": {},
     "output_type": "execute_result"
    }
   ],
   "source": [
    "gpx.head()\n"
   ]
  },
  {
   "cell_type": "code",
   "execution_count": 14,
   "id": "4c1cb175",
   "metadata": {},
   "outputs": [],
   "source": [
    "gdf_calc = calc_leistungskm(gpx)"
   ]
  },
  {
   "cell_type": "code",
   "execution_count": 19,
   "id": "d4bf0d8b",
   "metadata": {},
   "outputs": [
    {
     "name": "stdout",
     "output_type": "stream",
     "text": [
      "(   segment_id von_pkt_name                                von_pkt_geom  \\\n",
      "0           1   Startpunkt  POINT Z (2737832.731 1214786.689 1974.200)   \n",
      "\n",
      "  bis_pkt_name                                bis_pkt_geom  \\\n",
      "0         Ziel  POINT Z (2739850.838 1217402.568 1379.800)   \n",
      "\n",
      "                                        segment_geom  cumulative_km  \\\n",
      "0  LINESTRING Z (2737832.731 1214786.689 1974.200...       14.80357   \n",
      "\n",
      "   elevation  Leistungskm [km]  Marschzeit [min]  \n",
      "0     -594.4          41.39157             621.0  , 14.804, 1032.0, -1627.0, 10, 0)\n",
      "<class 'tuple'>\n"
     ]
    }
   ],
   "source": [
    "print(gdf_calc)\n",
    "print(type(gdf_calc))\n"
   ]
  },
  {
   "cell_type": "code",
   "execution_count": 24,
   "id": "b45fa185",
   "metadata": {},
   "outputs": [
    {
     "ename": "AttributeError",
     "evalue": "module 'geopandas' has no attribute 'DataFrame'",
     "output_type": "error",
     "traceback": [
      "\u001b[1;31m---------------------------------------------------------------------------\u001b[0m",
      "\u001b[1;31mAttributeError\u001b[0m                            Traceback (most recent call last)",
      "Cell \u001b[1;32mIn[24], line 3\u001b[0m\n\u001b[0;32m      1\u001b[0m df \u001b[38;5;241m=\u001b[39m gdf_calc[\u001b[38;5;241m0\u001b[39m]  \u001b[38;5;66;03m# get the DataFrame from the tuple\u001b[39;00m\n\u001b[1;32m----> 3\u001b[0m gdf_show \u001b[38;5;241m=\u001b[39m \u001b[43mgpd\u001b[49m\u001b[38;5;241;43m.\u001b[39;49m\u001b[43mDataFrame\u001b[49m({\n\u001b[0;32m      4\u001b[0m     \u001b[38;5;124m'\u001b[39m\u001b[38;5;124mAbschnitt\u001b[39m\u001b[38;5;124m'\u001b[39m: df[\u001b[38;5;124m'\u001b[39m\u001b[38;5;124msegment_id\u001b[39m\u001b[38;5;124m'\u001b[39m],\n\u001b[0;32m      5\u001b[0m     \u001b[38;5;124m'\u001b[39m\u001b[38;5;124mVon\u001b[39m\u001b[38;5;124m'\u001b[39m: df[\u001b[38;5;124m'\u001b[39m\u001b[38;5;124mvon_pkt_name\u001b[39m\u001b[38;5;124m'\u001b[39m],\n\u001b[0;32m      6\u001b[0m     \u001b[38;5;124m'\u001b[39m\u001b[38;5;124mNach\u001b[39m\u001b[38;5;124m'\u001b[39m: df[\u001b[38;5;124m'\u001b[39m\u001b[38;5;124mbis_pkt_name\u001b[39m\u001b[38;5;124m'\u001b[39m],\n\u001b[0;32m      7\u001b[0m     \u001b[38;5;124m'\u001b[39m\u001b[38;5;124mLaenge [km]\u001b[39m\u001b[38;5;124m'\u001b[39m: df[\u001b[38;5;124m'\u001b[39m\u001b[38;5;124mcumulative_km\u001b[39m\u001b[38;5;124m'\u001b[39m]\u001b[38;5;241m.\u001b[39mround(\u001b[38;5;241m2\u001b[39m),\n\u001b[0;32m      8\u001b[0m     \u001b[38;5;124m'\u001b[39m\u001b[38;5;124mHoehenmeter [m]\u001b[39m\u001b[38;5;124m'\u001b[39m: df[\u001b[38;5;124m'\u001b[39m\u001b[38;5;124melevation\u001b[39m\u001b[38;5;124m'\u001b[39m]\u001b[38;5;241m.\u001b[39mround(\u001b[38;5;241m1\u001b[39m),\n\u001b[0;32m      9\u001b[0m     \u001b[38;5;124m'\u001b[39m\u001b[38;5;124mLeistungskm\u001b[39m\u001b[38;5;124m'\u001b[39m: df[\u001b[38;5;124m'\u001b[39m\u001b[38;5;124mLeistungskm [km]\u001b[39m\u001b[38;5;124m'\u001b[39m]\u001b[38;5;241m.\u001b[39mround(\u001b[38;5;241m2\u001b[39m),\n\u001b[0;32m     10\u001b[0m     \u001b[38;5;124m'\u001b[39m\u001b[38;5;124mMarschzeit [min]\u001b[39m\u001b[38;5;124m'\u001b[39m: df[\u001b[38;5;124m'\u001b[39m\u001b[38;5;124mMarschzeit [min]\u001b[39m\u001b[38;5;124m'\u001b[39m]\u001b[38;5;241m.\u001b[39mround(\u001b[38;5;241m0\u001b[39m),\n\u001b[0;32m     11\u001b[0m     \u001b[38;5;124m'\u001b[39m\u001b[38;5;124mHinweis\u001b[39m\u001b[38;5;124m'\u001b[39m: \u001b[38;5;124m\"\u001b[39m\u001b[38;5;124m\"\u001b[39m  \u001b[38;5;66;03m# Add an empty 'Hinweis' column\u001b[39;00m\n\u001b[0;32m     12\u001b[0m })\n",
      "\u001b[1;31mAttributeError\u001b[0m: module 'geopandas' has no attribute 'DataFrame'"
     ]
    }
   ],
   "source": [
    "df = gdf_calc[0]  # get the DataFrame from the tuple\n",
    "\n",
    "gdf_show = gpd.DataFrame({\n",
    "    'Abschnitt': df['segment_id'],\n",
    "    'Von': df['von_pkt_name'],\n",
    "    'Nach': df['bis_pkt_name'],\n",
    "    'Laenge [km]': df['cumulative_km'].round(2),\n",
    "    'Hoehenmeter [m]': df['elevation'].round(1),\n",
    "    'Leistungskm': df['Leistungskm [km]'].round(2),\n",
    "    'Marschzeit [min]': df['Marschzeit [min]'].round(0),\n",
    "    'Hinweis': \"\"  # Add an empty 'Hinweis' column\n",
    "})"
   ]
  }
 ],
 "metadata": {
  "kernelspec": {
   "display_name": "4040_Hackaton",
   "language": "python",
   "name": "python3"
  },
  "language_info": {
   "codemirror_mode": {
    "name": "ipython",
    "version": 3
   },
   "file_extension": ".py",
   "mimetype": "text/x-python",
   "name": "python",
   "nbconvert_exporter": "python",
   "pygments_lexer": "ipython3",
   "version": "3.10.17"
  }
 },
 "nbformat": 4,
 "nbformat_minor": 5
}
