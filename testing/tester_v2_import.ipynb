{
 "cells": [
  {
   "cell_type": "code",
   "execution_count": 1,
   "id": "0d2d3df8",
   "metadata": {},
   "outputs": [],
   "source": [
    "import sys\n",
    "from pathlib import Path\n",
    "\n",
    "# einen Pfad relativ zum Notebook bauen\n",
    "root = Path().resolve().parent  # wenn test.ipynb in testing_rbo/, geht parent auf Dein Projekt-Root\n",
    "src  = root / \"src\"\n",
    "sys.path.insert(0, str(src))\n",
    "\n",
    "# jetzt kennt Python import_gpx.py\n",
    "from import_gpx import import_gpx"
   ]
  },
  {
   "cell_type": "markdown",
   "id": "a707ed96",
   "metadata": {},
   "source": [
    "## Flumsi"
   ]
  },
  {
   "cell_type": "code",
   "execution_count": 2,
   "id": "fc264a2e",
   "metadata": {},
   "outputs": [],
   "source": [
    "path_flumsi = \"../data/7-gipfel-tour-flumserberg.gpx\""
   ]
  },
  {
   "cell_type": "code",
   "execution_count": 3,
   "id": "08c55187",
   "metadata": {},
   "outputs": [],
   "source": [
    "gdf_flumsi = import_gpx(path_flumsi)"
   ]
  },
  {
   "cell_type": "code",
   "execution_count": 4,
   "id": "07a9c714",
   "metadata": {},
   "outputs": [
    {
     "data": {
      "text/html": [
       "<div>\n",
       "<style scoped>\n",
       "    .dataframe tbody tr th:only-of-type {\n",
       "        vertical-align: middle;\n",
       "    }\n",
       "\n",
       "    .dataframe tbody tr th {\n",
       "        vertical-align: top;\n",
       "    }\n",
       "\n",
       "    .dataframe thead th {\n",
       "        text-align: right;\n",
       "    }\n",
       "</style>\n",
       "<table border=\"1\" class=\"dataframe\">\n",
       "  <thead>\n",
       "    <tr style=\"text-align: right;\">\n",
       "      <th></th>\n",
       "      <th>segment_id</th>\n",
       "      <th>von_pkt_name</th>\n",
       "      <th>von_pkt_geom</th>\n",
       "      <th>bis_pkt_name</th>\n",
       "      <th>bis_pkt_geom</th>\n",
       "      <th>segment_geom</th>\n",
       "    </tr>\n",
       "  </thead>\n",
       "  <tbody>\n",
       "    <tr>\n",
       "      <th>0</th>\n",
       "      <td>1</td>\n",
       "      <td>Startpunkt</td>\n",
       "      <td>POINT Z (2737832.731 1214786.689 1974.2)</td>\n",
       "      <td>Ziel</td>\n",
       "      <td>POINT Z (2739850.838 1217402.568 1379.8)</td>\n",
       "      <td>LINESTRING Z (2737832.731 1214786.689 1974.2, ...</td>\n",
       "    </tr>\n",
       "  </tbody>\n",
       "</table>\n",
       "</div>"
      ],
      "text/plain": [
       "   segment_id von_pkt_name                              von_pkt_geom  \\\n",
       "0           1   Startpunkt  POINT Z (2737832.731 1214786.689 1974.2)   \n",
       "\n",
       "  bis_pkt_name                              bis_pkt_geom  \\\n",
       "0         Ziel  POINT Z (2739850.838 1217402.568 1379.8)   \n",
       "\n",
       "                                        segment_geom  \n",
       "0  LINESTRING Z (2737832.731 1214786.689 1974.2, ...  "
      ]
     },
     "execution_count": 4,
     "metadata": {},
     "output_type": "execute_result"
    }
   ],
   "source": [
    "gdf_flumsi"
   ]
  },
  {
   "cell_type": "code",
   "execution_count": 5,
   "id": "9918cde7",
   "metadata": {},
   "outputs": [
    {
     "name": "stdout",
     "output_type": "stream",
     "text": [
      "<class 'geopandas.geodataframe.GeoDataFrame'>\n",
      "RangeIndex: 1 entries, 0 to 0\n",
      "Data columns (total 6 columns):\n",
      " #   Column        Non-Null Count  Dtype   \n",
      "---  ------        --------------  -----   \n",
      " 0   segment_id    1 non-null      int16   \n",
      " 1   von_pkt_name  1 non-null      object  \n",
      " 2   von_pkt_geom  1 non-null      geometry\n",
      " 3   bis_pkt_name  1 non-null      object  \n",
      " 4   bis_pkt_geom  1 non-null      geometry\n",
      " 5   segment_geom  1 non-null      geometry\n",
      "dtypes: geometry(3), int16(1), object(2)\n",
      "memory usage: 174.0+ bytes\n"
     ]
    }
   ],
   "source": [
    "gdf_flumsi.info()"
   ]
  },
  {
   "cell_type": "markdown",
   "id": "099c32d3",
   "metadata": {},
   "source": [
    "## Muttenz\n"
   ]
  },
  {
   "cell_type": "code",
   "execution_count": 6,
   "id": "1e5b6e51",
   "metadata": {},
   "outputs": [],
   "source": [
    "path_muttenz = \"../data/first_Testdata_Muttenz.gpx\""
   ]
  },
  {
   "cell_type": "code",
   "execution_count": 7,
   "id": "83fc4992",
   "metadata": {},
   "outputs": [],
   "source": [
    "gdf_muttenz = import_gpx(path_muttenz)"
   ]
  },
  {
   "cell_type": "code",
   "execution_count": 8,
   "id": "0cbb3af6",
   "metadata": {},
   "outputs": [
    {
     "data": {
      "text/html": [
       "<div>\n",
       "<style scoped>\n",
       "    .dataframe tbody tr th:only-of-type {\n",
       "        vertical-align: middle;\n",
       "    }\n",
       "\n",
       "    .dataframe tbody tr th {\n",
       "        vertical-align: top;\n",
       "    }\n",
       "\n",
       "    .dataframe thead th {\n",
       "        text-align: right;\n",
       "    }\n",
       "</style>\n",
       "<table border=\"1\" class=\"dataframe\">\n",
       "  <thead>\n",
       "    <tr style=\"text-align: right;\">\n",
       "      <th></th>\n",
       "      <th>segment_id</th>\n",
       "      <th>von_pkt_name</th>\n",
       "      <th>von_pkt_geom</th>\n",
       "      <th>bis_pkt_name</th>\n",
       "      <th>bis_pkt_geom</th>\n",
       "      <th>segment_geom</th>\n",
       "    </tr>\n",
       "  </thead>\n",
       "  <tbody>\n",
       "    <tr>\n",
       "      <th>0</th>\n",
       "      <td>1</td>\n",
       "      <td>Startpunkt</td>\n",
       "      <td>POINT Z (2615292.286 1264887.924 279.7)</td>\n",
       "      <td>Hintere Burg</td>\n",
       "      <td>POINT Z (2616488.117 1263427.786 431.5)</td>\n",
       "      <td>LINESTRING Z (2615292.286 1264887.924 279.7, 2...</td>\n",
       "    </tr>\n",
       "    <tr>\n",
       "      <th>1</th>\n",
       "      <td>2</td>\n",
       "      <td>Hintere Burg</td>\n",
       "      <td>POINT Z (2616488.117 1263427.786 431.5)</td>\n",
       "      <td>Mittlere Burg</td>\n",
       "      <td>POINT Z (2616298.894 1263194.66 476.4)</td>\n",
       "      <td>LINESTRING Z (2616488.117 1263427.786 431.5, 2...</td>\n",
       "    </tr>\n",
       "    <tr>\n",
       "      <th>2</th>\n",
       "      <td>3</td>\n",
       "      <td>Mittlere Burg</td>\n",
       "      <td>POINT Z (2616298.894 1263194.66 476.4)</td>\n",
       "      <td>Lecker Weinchen</td>\n",
       "      <td>POINT Z (2617072.551 1262557.063 411)</td>\n",
       "      <td>LINESTRING Z (2616298.894 1263194.66 476.4, 26...</td>\n",
       "    </tr>\n",
       "    <tr>\n",
       "      <th>3</th>\n",
       "      <td>4</td>\n",
       "      <td>Lecker Weinchen</td>\n",
       "      <td>POINT Z (2617072.551 1262557.063 411)</td>\n",
       "      <td>Schauenburg</td>\n",
       "      <td>POINT Z (2618037.624 1261126.735 568.2)</td>\n",
       "      <td>LINESTRING Z (2617072.551 1262557.063 411, 261...</td>\n",
       "    </tr>\n",
       "    <tr>\n",
       "      <th>4</th>\n",
       "      <td>5</td>\n",
       "      <td>Schauenburg</td>\n",
       "      <td>POINT Z (2618037.624 1261126.735 568.2)</td>\n",
       "      <td>Ende</td>\n",
       "      <td>POINT Z (2621085.137 1261293.638 310.5)</td>\n",
       "      <td>LINESTRING Z (2618037.624 1261126.735 568.2, 2...</td>\n",
       "    </tr>\n",
       "  </tbody>\n",
       "</table>\n",
       "</div>"
      ],
      "text/plain": [
       "   segment_id     von_pkt_name                             von_pkt_geom  \\\n",
       "0           1       Startpunkt  POINT Z (2615292.286 1264887.924 279.7)   \n",
       "1           2     Hintere Burg  POINT Z (2616488.117 1263427.786 431.5)   \n",
       "2           3    Mittlere Burg   POINT Z (2616298.894 1263194.66 476.4)   \n",
       "3           4  Lecker Weinchen    POINT Z (2617072.551 1262557.063 411)   \n",
       "4           5      Schauenburg  POINT Z (2618037.624 1261126.735 568.2)   \n",
       "\n",
       "      bis_pkt_name                             bis_pkt_geom  \\\n",
       "0     Hintere Burg  POINT Z (2616488.117 1263427.786 431.5)   \n",
       "1    Mittlere Burg   POINT Z (2616298.894 1263194.66 476.4)   \n",
       "2  Lecker Weinchen    POINT Z (2617072.551 1262557.063 411)   \n",
       "3      Schauenburg  POINT Z (2618037.624 1261126.735 568.2)   \n",
       "4             Ende  POINT Z (2621085.137 1261293.638 310.5)   \n",
       "\n",
       "                                        segment_geom  \n",
       "0  LINESTRING Z (2615292.286 1264887.924 279.7, 2...  \n",
       "1  LINESTRING Z (2616488.117 1263427.786 431.5, 2...  \n",
       "2  LINESTRING Z (2616298.894 1263194.66 476.4, 26...  \n",
       "3  LINESTRING Z (2617072.551 1262557.063 411, 261...  \n",
       "4  LINESTRING Z (2618037.624 1261126.735 568.2, 2...  "
      ]
     },
     "execution_count": 8,
     "metadata": {},
     "output_type": "execute_result"
    }
   ],
   "source": [
    "gdf_muttenz"
   ]
  },
  {
   "cell_type": "code",
   "execution_count": 9,
   "id": "ab169b03",
   "metadata": {},
   "outputs": [
    {
     "name": "stdout",
     "output_type": "stream",
     "text": [
      "<class 'geopandas.geodataframe.GeoDataFrame'>\n",
      "RangeIndex: 5 entries, 0 to 4\n",
      "Data columns (total 6 columns):\n",
      " #   Column        Non-Null Count  Dtype   \n",
      "---  ------        --------------  -----   \n",
      " 0   segment_id    5 non-null      int16   \n",
      " 1   von_pkt_name  5 non-null      object  \n",
      " 2   von_pkt_geom  5 non-null      geometry\n",
      " 3   bis_pkt_name  5 non-null      object  \n",
      " 4   bis_pkt_geom  5 non-null      geometry\n",
      " 5   segment_geom  5 non-null      geometry\n",
      "dtypes: geometry(3), int16(1), object(2)\n",
      "memory usage: 342.0+ bytes\n"
     ]
    }
   ],
   "source": [
    "gdf_muttenz.info()"
   ]
  },
  {
   "cell_type": "markdown",
   "id": "1547d975",
   "metadata": {},
   "source": [
    "## Meilen"
   ]
  },
  {
   "cell_type": "code",
   "execution_count": 10,
   "id": "5cdac289",
   "metadata": {},
   "outputs": [],
   "source": [
    "path_meilen = \"../data/MeileBH_Buech.gpx\""
   ]
  },
  {
   "cell_type": "code",
   "execution_count": 11,
   "id": "d27d3011",
   "metadata": {},
   "outputs": [],
   "source": [
    "gdf_meilen = import_gpx(path_meilen)"
   ]
  },
  {
   "cell_type": "code",
   "execution_count": 12,
   "id": "f847b479",
   "metadata": {},
   "outputs": [
    {
     "data": {
      "text/html": [
       "<div>\n",
       "<style scoped>\n",
       "    .dataframe tbody tr th:only-of-type {\n",
       "        vertical-align: middle;\n",
       "    }\n",
       "\n",
       "    .dataframe tbody tr th {\n",
       "        vertical-align: top;\n",
       "    }\n",
       "\n",
       "    .dataframe thead th {\n",
       "        text-align: right;\n",
       "    }\n",
       "</style>\n",
       "<table border=\"1\" class=\"dataframe\">\n",
       "  <thead>\n",
       "    <tr style=\"text-align: right;\">\n",
       "      <th></th>\n",
       "      <th>segment_id</th>\n",
       "      <th>von_pkt_name</th>\n",
       "      <th>von_pkt_geom</th>\n",
       "      <th>bis_pkt_name</th>\n",
       "      <th>bis_pkt_geom</th>\n",
       "      <th>segment_geom</th>\n",
       "    </tr>\n",
       "  </thead>\n",
       "  <tbody>\n",
       "    <tr>\n",
       "      <th>0</th>\n",
       "      <td>1</td>\n",
       "      <td>Bahnhof</td>\n",
       "      <td>POINT Z (2691201.326 1236128.273 419.8)</td>\n",
       "      <td>Burg</td>\n",
       "      <td>POINT Z (2691048.922 1237146.257 501.6)</td>\n",
       "      <td>LINESTRING Z (2691201.326 1236128.273 419.8, 2...</td>\n",
       "    </tr>\n",
       "    <tr>\n",
       "      <th>1</th>\n",
       "      <td>2</td>\n",
       "      <td>Burg</td>\n",
       "      <td>POINT Z (2691048.922 1237146.257 501.6)</td>\n",
       "      <td>Übereschüttle</td>\n",
       "      <td>POINT Z (2691361.068 1238027.36 609.8)</td>\n",
       "      <td>LINESTRING Z (2691048.922 1237146.257 501.6, 2...</td>\n",
       "    </tr>\n",
       "    <tr>\n",
       "      <th>2</th>\n",
       "      <td>3</td>\n",
       "      <td>Übereschüttle</td>\n",
       "      <td>POINT Z (2691361.068 1238027.36 609.8)</td>\n",
       "      <td>Ratsfelse</td>\n",
       "      <td>POINT Z (2691110.075 1238241.493 614.2)</td>\n",
       "      <td>LINESTRING Z (2691361.068 1238027.36 609.8, 26...</td>\n",
       "    </tr>\n",
       "    <tr>\n",
       "      <th>3</th>\n",
       "      <td>4</td>\n",
       "      <td>Ratsfelse</td>\n",
       "      <td>POINT Z (2691110.075 1238241.493 614.2)</td>\n",
       "      <td>Buech</td>\n",
       "      <td>POINT Z (2690088.967 1238277.303 584.6)</td>\n",
       "      <td>LINESTRING Z (2691110.075 1238241.493 614.2, 2...</td>\n",
       "    </tr>\n",
       "  </tbody>\n",
       "</table>\n",
       "</div>"
      ],
      "text/plain": [
       "   segment_id   von_pkt_name                             von_pkt_geom  \\\n",
       "0           1        Bahnhof  POINT Z (2691201.326 1236128.273 419.8)   \n",
       "1           2           Burg  POINT Z (2691048.922 1237146.257 501.6)   \n",
       "2           3  Übereschüttle   POINT Z (2691361.068 1238027.36 609.8)   \n",
       "3           4      Ratsfelse  POINT Z (2691110.075 1238241.493 614.2)   \n",
       "\n",
       "    bis_pkt_name                             bis_pkt_geom  \\\n",
       "0           Burg  POINT Z (2691048.922 1237146.257 501.6)   \n",
       "1  Übereschüttle   POINT Z (2691361.068 1238027.36 609.8)   \n",
       "2      Ratsfelse  POINT Z (2691110.075 1238241.493 614.2)   \n",
       "3          Buech  POINT Z (2690088.967 1238277.303 584.6)   \n",
       "\n",
       "                                        segment_geom  \n",
       "0  LINESTRING Z (2691201.326 1236128.273 419.8, 2...  \n",
       "1  LINESTRING Z (2691048.922 1237146.257 501.6, 2...  \n",
       "2  LINESTRING Z (2691361.068 1238027.36 609.8, 26...  \n",
       "3  LINESTRING Z (2691110.075 1238241.493 614.2, 2...  "
      ]
     },
     "execution_count": 12,
     "metadata": {},
     "output_type": "execute_result"
    }
   ],
   "source": [
    "gdf_meilen"
   ]
  },
  {
   "cell_type": "code",
   "execution_count": 13,
   "id": "c72bc63c",
   "metadata": {},
   "outputs": [
    {
     "name": "stdout",
     "output_type": "stream",
     "text": [
      "<class 'geopandas.geodataframe.GeoDataFrame'>\n",
      "RangeIndex: 4 entries, 0 to 3\n",
      "Data columns (total 6 columns):\n",
      " #   Column        Non-Null Count  Dtype   \n",
      "---  ------        --------------  -----   \n",
      " 0   segment_id    4 non-null      int16   \n",
      " 1   von_pkt_name  4 non-null      object  \n",
      " 2   von_pkt_geom  4 non-null      geometry\n",
      " 3   bis_pkt_name  4 non-null      object  \n",
      " 4   bis_pkt_geom  4 non-null      geometry\n",
      " 5   segment_geom  4 non-null      geometry\n",
      "dtypes: geometry(3), int16(1), object(2)\n",
      "memory usage: 300.0+ bytes\n"
     ]
    }
   ],
   "source": [
    "gdf_meilen.info()"
   ]
  },
  {
   "cell_type": "markdown",
   "id": "3c4eafd3",
   "metadata": {},
   "source": [
    "## Arosa"
   ]
  },
  {
   "cell_type": "code",
   "execution_count": 14,
   "id": "aa975621",
   "metadata": {},
   "outputs": [],
   "source": [
    "path_arosa = \"../data/second_Testdata_Arosa.gpx\""
   ]
  },
  {
   "cell_type": "code",
   "execution_count": 15,
   "id": "74df6410",
   "metadata": {},
   "outputs": [],
   "source": [
    "gdf_arosa = import_gpx(path_arosa)"
   ]
  },
  {
   "cell_type": "code",
   "execution_count": 16,
   "id": "668d7170",
   "metadata": {},
   "outputs": [
    {
     "data": {
      "text/html": [
       "<div>\n",
       "<style scoped>\n",
       "    .dataframe tbody tr th:only-of-type {\n",
       "        vertical-align: middle;\n",
       "    }\n",
       "\n",
       "    .dataframe tbody tr th {\n",
       "        vertical-align: top;\n",
       "    }\n",
       "\n",
       "    .dataframe thead th {\n",
       "        text-align: right;\n",
       "    }\n",
       "</style>\n",
       "<table border=\"1\" class=\"dataframe\">\n",
       "  <thead>\n",
       "    <tr style=\"text-align: right;\">\n",
       "      <th></th>\n",
       "      <th>segment_id</th>\n",
       "      <th>von_pkt_name</th>\n",
       "      <th>von_pkt_geom</th>\n",
       "      <th>bis_pkt_name</th>\n",
       "      <th>bis_pkt_geom</th>\n",
       "      <th>segment_geom</th>\n",
       "    </tr>\n",
       "  </thead>\n",
       "  <tbody>\n",
       "    <tr>\n",
       "      <th>0</th>\n",
       "      <td>1</td>\n",
       "      <td>Start - Arosa Isel</td>\n",
       "      <td>POINT Z (2771363.006 1182944.671 1619.8)</td>\n",
       "      <td>Talboden</td>\n",
       "      <td>POINT Z (2771631.169 1182149.947 1642.7)</td>\n",
       "      <td>LINESTRING Z (2771363.006 1182944.671 1619.8, ...</td>\n",
       "    </tr>\n",
       "    <tr>\n",
       "      <th>1</th>\n",
       "      <td>2</td>\n",
       "      <td>Talboden</td>\n",
       "      <td>POINT Z (2771631.169 1182149.947 1642.7)</td>\n",
       "      <td>Wasserfall</td>\n",
       "      <td>POINT Z (2771672.973 1181859.38 1660.2)</td>\n",
       "      <td>LINESTRING Z (2771631.169 1182149.947 1642.7, ...</td>\n",
       "    </tr>\n",
       "    <tr>\n",
       "      <th>2</th>\n",
       "      <td>3</td>\n",
       "      <td>Wasserfall</td>\n",
       "      <td>POINT Z (2771672.973 1181859.38 1660.2)</td>\n",
       "      <td>Sattel Alteiner</td>\n",
       "      <td>POINT Z (2772048.846 1181239.261 1952.8)</td>\n",
       "      <td>LINESTRING Z (2771672.973 1181859.38 1660.2, 2...</td>\n",
       "    </tr>\n",
       "    <tr>\n",
       "      <th>3</th>\n",
       "      <td>4</td>\n",
       "      <td>Sattel Alteiner</td>\n",
       "      <td>POINT Z (2772048.846 1181239.261 1952.8)</td>\n",
       "      <td>Altein</td>\n",
       "      <td>POINT Z (2772884.396 1180425.213 2271.4)</td>\n",
       "      <td>LINESTRING Z (2772048.846 1181239.261 1952.8, ...</td>\n",
       "    </tr>\n",
       "    <tr>\n",
       "      <th>4</th>\n",
       "      <td>5</td>\n",
       "      <td>Altein</td>\n",
       "      <td>POINT Z (2772884.396 1180425.213 2271.4)</td>\n",
       "      <td>Schiesshornbode</td>\n",
       "      <td>POINT Z (2773192.438 1181617.741 2428.5)</td>\n",
       "      <td>LINESTRING Z (2772884.396 1180425.213 2271.4, ...</td>\n",
       "    </tr>\n",
       "    <tr>\n",
       "      <th>5</th>\n",
       "      <td>6</td>\n",
       "      <td>Schiesshornbode</td>\n",
       "      <td>POINT Z (2773192.438 1181617.741 2428.5)</td>\n",
       "      <td>Obersäss Sattel</td>\n",
       "      <td>POINT Z (2773796.352 1182123.088 2315.5)</td>\n",
       "      <td>LINESTRING Z (2773192.438 1181617.741 2428.5, ...</td>\n",
       "    </tr>\n",
       "    <tr>\n",
       "      <th>6</th>\n",
       "      <td>7</td>\n",
       "      <td>Obersäss Sattel</td>\n",
       "      <td>POINT Z (2773796.352 1182123.088 2315.5)</td>\n",
       "      <td>Talboden</td>\n",
       "      <td>POINT Z (2772192.138 1182893.917 1664)</td>\n",
       "      <td>LINESTRING Z (2773796.352 1182123.088 2315.5, ...</td>\n",
       "    </tr>\n",
       "    <tr>\n",
       "      <th>7</th>\n",
       "      <td>8</td>\n",
       "      <td>Talboden</td>\n",
       "      <td>POINT Z (2772192.138 1182893.917 1664)</td>\n",
       "      <td>Ende Arosa Isel</td>\n",
       "      <td>POINT Z (2771346.867 1182941.387 1619.9)</td>\n",
       "      <td>LINESTRING Z (2772192.138 1182893.917 1664, 27...</td>\n",
       "    </tr>\n",
       "  </tbody>\n",
       "</table>\n",
       "</div>"
      ],
      "text/plain": [
       "   segment_id        von_pkt_name                              von_pkt_geom  \\\n",
       "0           1  Start - Arosa Isel  POINT Z (2771363.006 1182944.671 1619.8)   \n",
       "1           2            Talboden  POINT Z (2771631.169 1182149.947 1642.7)   \n",
       "2           3          Wasserfall   POINT Z (2771672.973 1181859.38 1660.2)   \n",
       "3           4     Sattel Alteiner  POINT Z (2772048.846 1181239.261 1952.8)   \n",
       "4           5              Altein  POINT Z (2772884.396 1180425.213 2271.4)   \n",
       "5           6     Schiesshornbode  POINT Z (2773192.438 1181617.741 2428.5)   \n",
       "6           7     Obersäss Sattel  POINT Z (2773796.352 1182123.088 2315.5)   \n",
       "7           8            Talboden    POINT Z (2772192.138 1182893.917 1664)   \n",
       "\n",
       "      bis_pkt_name                              bis_pkt_geom  \\\n",
       "0         Talboden  POINT Z (2771631.169 1182149.947 1642.7)   \n",
       "1       Wasserfall   POINT Z (2771672.973 1181859.38 1660.2)   \n",
       "2  Sattel Alteiner  POINT Z (2772048.846 1181239.261 1952.8)   \n",
       "3           Altein  POINT Z (2772884.396 1180425.213 2271.4)   \n",
       "4  Schiesshornbode  POINT Z (2773192.438 1181617.741 2428.5)   \n",
       "5  Obersäss Sattel  POINT Z (2773796.352 1182123.088 2315.5)   \n",
       "6         Talboden    POINT Z (2772192.138 1182893.917 1664)   \n",
       "7  Ende Arosa Isel  POINT Z (2771346.867 1182941.387 1619.9)   \n",
       "\n",
       "                                        segment_geom  \n",
       "0  LINESTRING Z (2771363.006 1182944.671 1619.8, ...  \n",
       "1  LINESTRING Z (2771631.169 1182149.947 1642.7, ...  \n",
       "2  LINESTRING Z (2771672.973 1181859.38 1660.2, 2...  \n",
       "3  LINESTRING Z (2772048.846 1181239.261 1952.8, ...  \n",
       "4  LINESTRING Z (2772884.396 1180425.213 2271.4, ...  \n",
       "5  LINESTRING Z (2773192.438 1181617.741 2428.5, ...  \n",
       "6  LINESTRING Z (2773796.352 1182123.088 2315.5, ...  \n",
       "7  LINESTRING Z (2772192.138 1182893.917 1664, 27...  "
      ]
     },
     "execution_count": 16,
     "metadata": {},
     "output_type": "execute_result"
    }
   ],
   "source": [
    "gdf_arosa"
   ]
  },
  {
   "cell_type": "code",
   "execution_count": 17,
   "id": "e8b6472c",
   "metadata": {},
   "outputs": [
    {
     "name": "stdout",
     "output_type": "stream",
     "text": [
      "<class 'geopandas.geodataframe.GeoDataFrame'>\n",
      "RangeIndex: 8 entries, 0 to 7\n",
      "Data columns (total 6 columns):\n",
      " #   Column        Non-Null Count  Dtype   \n",
      "---  ------        --------------  -----   \n",
      " 0   segment_id    8 non-null      int16   \n",
      " 1   von_pkt_name  8 non-null      object  \n",
      " 2   von_pkt_geom  8 non-null      geometry\n",
      " 3   bis_pkt_name  8 non-null      object  \n",
      " 4   bis_pkt_geom  8 non-null      geometry\n",
      " 5   segment_geom  8 non-null      geometry\n",
      "dtypes: geometry(3), int16(1), object(2)\n",
      "memory usage: 468.0+ bytes\n"
     ]
    }
   ],
   "source": [
    "gdf_arosa.info()"
   ]
  },
  {
   "cell_type": "markdown",
   "id": "31a8dabc",
   "metadata": {},
   "source": [
    "## Vergelich der DataFrames / Struckturelle tests"
   ]
  },
  {
   "cell_type": "code",
   "execution_count": 20,
   "id": "4674330b",
   "metadata": {},
   "outputs": [
    {
     "data": {
      "application/vnd.microsoft.datawrangler.viewer.v0+json": {
       "columns": [
        {
         "name": "index",
         "rawType": "int64",
         "type": "integer"
        },
        {
         "name": "GeoDataFrame",
         "rawType": "object",
         "type": "string"
        },
        {
         "name": "Columns",
         "rawType": "object",
         "type": "string"
        },
        {
         "name": "DTypes",
         "rawType": "object",
         "type": "string"
        },
        {
         "name": "CRS",
         "rawType": "object",
         "type": "string"
        },
        {
         "name": "Geom-Types",
         "rawType": "object",
         "type": "string"
        }
       ],
       "ref": "a04831af-0f69-45cf-b09f-48709c14f1fb",
       "rows": [
        [
         "0",
         "Arosa",
         "segment_id, von_pkt_name, von_pkt_geom, bis_pkt_name, bis_pkt_geom, segment_geom",
         "segment_id:int16, von_pkt_name:object, von_pkt_geom:geometry, bis_pkt_name:object, bis_pkt_geom:geometry, segment_geom:geometry",
         "EPSG:2056",
         "LineString"
        ],
        [
         "1",
         "Muttenz",
         "segment_id, von_pkt_name, von_pkt_geom, bis_pkt_name, bis_pkt_geom, segment_geom",
         "segment_id:int16, von_pkt_name:object, von_pkt_geom:geometry, bis_pkt_name:object, bis_pkt_geom:geometry, segment_geom:geometry",
         "EPSG:2056",
         "LineString"
        ],
        [
         "2",
         "Flumsi",
         "segment_id, von_pkt_name, von_pkt_geom, bis_pkt_name, bis_pkt_geom, segment_geom",
         "segment_id:int16, von_pkt_name:object, von_pkt_geom:geometry, bis_pkt_name:object, bis_pkt_geom:geometry, segment_geom:geometry",
         "EPSG:2056",
         "LineString"
        ],
        [
         "3",
         "Meilen",
         "segment_id, von_pkt_name, von_pkt_geom, bis_pkt_name, bis_pkt_geom, segment_geom",
         "segment_id:int16, von_pkt_name:object, von_pkt_geom:geometry, bis_pkt_name:object, bis_pkt_geom:geometry, segment_geom:geometry",
         "EPSG:2056",
         "LineString"
        ]
       ],
       "shape": {
        "columns": 5,
        "rows": 4
       }
      },
      "text/html": [
       "<div>\n",
       "<style scoped>\n",
       "    .dataframe tbody tr th:only-of-type {\n",
       "        vertical-align: middle;\n",
       "    }\n",
       "\n",
       "    .dataframe tbody tr th {\n",
       "        vertical-align: top;\n",
       "    }\n",
       "\n",
       "    .dataframe thead th {\n",
       "        text-align: right;\n",
       "    }\n",
       "</style>\n",
       "<table border=\"1\" class=\"dataframe\">\n",
       "  <thead>\n",
       "    <tr style=\"text-align: right;\">\n",
       "      <th></th>\n",
       "      <th>GeoDataFrame</th>\n",
       "      <th>Columns</th>\n",
       "      <th>DTypes</th>\n",
       "      <th>CRS</th>\n",
       "      <th>Geom-Types</th>\n",
       "    </tr>\n",
       "  </thead>\n",
       "  <tbody>\n",
       "    <tr>\n",
       "      <th>0</th>\n",
       "      <td>Arosa</td>\n",
       "      <td>segment_id, von_pkt_name, von_pkt_geom, bis_pk...</td>\n",
       "      <td>segment_id:int16, von_pkt_name:object, von_pkt...</td>\n",
       "      <td>EPSG:2056</td>\n",
       "      <td>LineString</td>\n",
       "    </tr>\n",
       "    <tr>\n",
       "      <th>1</th>\n",
       "      <td>Muttenz</td>\n",
       "      <td>segment_id, von_pkt_name, von_pkt_geom, bis_pk...</td>\n",
       "      <td>segment_id:int16, von_pkt_name:object, von_pkt...</td>\n",
       "      <td>EPSG:2056</td>\n",
       "      <td>LineString</td>\n",
       "    </tr>\n",
       "    <tr>\n",
       "      <th>2</th>\n",
       "      <td>Flumsi</td>\n",
       "      <td>segment_id, von_pkt_name, von_pkt_geom, bis_pk...</td>\n",
       "      <td>segment_id:int16, von_pkt_name:object, von_pkt...</td>\n",
       "      <td>EPSG:2056</td>\n",
       "      <td>LineString</td>\n",
       "    </tr>\n",
       "    <tr>\n",
       "      <th>3</th>\n",
       "      <td>Meilen</td>\n",
       "      <td>segment_id, von_pkt_name, von_pkt_geom, bis_pk...</td>\n",
       "      <td>segment_id:int16, von_pkt_name:object, von_pkt...</td>\n",
       "      <td>EPSG:2056</td>\n",
       "      <td>LineString</td>\n",
       "    </tr>\n",
       "  </tbody>\n",
       "</table>\n",
       "</div>"
      ],
      "text/plain": [
       "  GeoDataFrame                                            Columns  \\\n",
       "0        Arosa  segment_id, von_pkt_name, von_pkt_geom, bis_pk...   \n",
       "1      Muttenz  segment_id, von_pkt_name, von_pkt_geom, bis_pk...   \n",
       "2       Flumsi  segment_id, von_pkt_name, von_pkt_geom, bis_pk...   \n",
       "3       Meilen  segment_id, von_pkt_name, von_pkt_geom, bis_pk...   \n",
       "\n",
       "                                              DTypes        CRS  Geom-Types  \n",
       "0  segment_id:int16, von_pkt_name:object, von_pkt...  EPSG:2056  LineString  \n",
       "1  segment_id:int16, von_pkt_name:object, von_pkt...  EPSG:2056  LineString  \n",
       "2  segment_id:int16, von_pkt_name:object, von_pkt...  EPSG:2056  LineString  \n",
       "3  segment_id:int16, von_pkt_name:object, von_pkt...  EPSG:2056  LineString  "
      ]
     },
     "metadata": {},
     "output_type": "display_data"
    },
    {
     "name": "stdout",
     "output_type": "stream",
     "text": [
      "✅ Alle GeoDataFrames sind strukturell gleich.\n"
     ]
    }
   ],
   "source": [
    "import geopandas as gpd\n",
    "import pandas as pd\n",
    "from IPython.display import display  # Jupyter-Notebook Anzeigehilfe\n",
    "\n",
    "# Deine GeoDataFrames\n",
    "gdfs = {\n",
    "    'Arosa': gdf_arosa,\n",
    "    'Muttenz': gdf_muttenz,\n",
    "    'Flumsi': gdf_flumsi,\n",
    "    'Meilen': gdf_meilen\n",
    "}\n",
    "\n",
    "# Übersichtsdaten sammeln\n",
    "summary = []\n",
    "for name, gdf in gdfs.items():\n",
    "    summary.append({\n",
    "        'GeoDataFrame': name,\n",
    "        'Columns': ', '.join(gdf.columns),\n",
    "        'DTypes': ', '.join(f\"{col}:{dtype}\" for col, dtype in zip(gdf.columns, gdf.dtypes)),\n",
    "        'CRS': str(gdf.crs),\n",
    "        'Geom-Types': ', '.join(gdf.geometry.geom_type.unique())\n",
    "    })\n",
    "\n",
    "# In ein DataFrame für Übersicht überführen\n",
    "df_summary = pd.DataFrame(summary)\n",
    "\n",
    "# Im Notebook anzeigen\n",
    "display(df_summary)\n",
    "\n",
    "# Funktion zum strukturellen Vergleich\n",
    "def compare_structures(gdfs_dict):\n",
    "    ref_name, ref = next(iter(gdfs_dict.items()))\n",
    "    all_equal = True\n",
    "\n",
    "    for name, gdf in gdfs_dict.items():\n",
    "        if not ref.columns.equals(gdf.columns):\n",
    "            print(f\"❌ Spalten von {name} weichen ab.\")\n",
    "            all_equal = False\n",
    "        if not all(str(a) == str(b) for a, b in zip(ref.dtypes, gdf.dtypes)):\n",
    "            print(f\"❌ DType-Definitionen in {name} weichen ab.\")\n",
    "            all_equal = False\n",
    "        if ref.crs != gdf.crs:\n",
    "            print(f\"❌ CRS von {name} weicht ab (Referenz: {ref.crs}, {name}: {gdf.crs}).\")\n",
    "            all_equal = False\n",
    "        if set(ref.geometry.geom_type.unique()) != set(gdf.geometry.geom_type.unique()):\n",
    "            print(f\"❌ Geometrietypen in {name} weichen ab.\")\n",
    "            all_equal = False\n",
    "\n",
    "    if all_equal:\n",
    "        print(\"✅ Alle GeoDataFrames sind strukturell gleich.\")\n",
    "\n",
    "# Und jetzt:\n",
    "compare_structures(gdfs)\n"
   ]
  }
 ],
 "metadata": {
  "kernelspec": {
   "display_name": "4040Hackathon_py313",
   "language": "python",
   "name": "python3"
  },
  "language_info": {
   "codemirror_mode": {
    "name": "ipython",
    "version": 3
   },
   "file_extension": ".py",
   "mimetype": "text/x-python",
   "name": "python",
   "nbconvert_exporter": "python",
   "pygments_lexer": "ipython3",
   "version": "3.13.2"
  }
 },
 "nbformat": 4,
 "nbformat_minor": 5
}
