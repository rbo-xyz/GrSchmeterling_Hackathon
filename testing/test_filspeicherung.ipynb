{
 "cells": [
  {
   "cell_type": "code",
   "execution_count": 2,
   "id": "99314971",
   "metadata": {},
   "outputs": [],
   "source": [
    "import os"
   ]
  },
  {
   "cell_type": "code",
   "execution_count": 6,
   "id": "68fd4715",
   "metadata": {},
   "outputs": [],
   "source": [
    "path = \"C://temp_schmetterling\"\n",
    "if not os.path.exists(path):\n",
    "    os.mkdir(path)"
   ]
  },
  {
   "cell_type": "code",
   "execution_count": 5,
   "id": "32940269",
   "metadata": {},
   "outputs": [
    {
     "name": "stdout",
     "output_type": "stream",
     "text": [
      "C://temp_schmetterling\\img.png\n"
     ]
    }
   ],
   "source": [
    "path_file = os.path.join(path, \"img.png\")\n",
    "\n",
    "print(path_file)"
   ]
  },
  {
   "cell_type": "code",
   "execution_count": 12,
   "id": "752cedc3",
   "metadata": {},
   "outputs": [
    {
     "ename": "PermissionError",
     "evalue": "[WinError 5] Zugriff verweigert: 'C://temp_schmetterling'",
     "output_type": "error",
     "traceback": [
      "\u001b[31m---------------------------------------------------------------------------\u001b[39m",
      "\u001b[31mPermissionError\u001b[39m                           Traceback (most recent call last)",
      "\u001b[36mCell\u001b[39m\u001b[36m \u001b[39m\u001b[32mIn[12]\u001b[39m\u001b[32m, line 6\u001b[39m\n\u001b[32m      4\u001b[39m path = \u001b[33m\"\u001b[39m\u001b[33mC://temp_schmetterling\u001b[39m\u001b[33m\"\u001b[39m\n\u001b[32m      5\u001b[39m \u001b[38;5;28;01mif\u001b[39;00m os.path.exists(path):\n\u001b[32m----> \u001b[39m\u001b[32m6\u001b[39m     \u001b[43mos\u001b[49m\u001b[43m.\u001b[49m\u001b[43mremove\u001b[49m\u001b[43m(\u001b[49m\u001b[43mpath\u001b[49m\u001b[43m)\u001b[49m\n",
      "\u001b[31mPermissionError\u001b[39m: [WinError 5] Zugriff verweigert: 'C://temp_schmetterling'"
     ]
    }
   ],
   "source": [
    "path_file = \"C://temp_schmetterling//map.png\" ## Bild von Ingazio (Map)\n",
    "path_file = \"C://temp_schmetterling//elevation.png\" ## Bild von Ingazio (Elevation)\n",
    "\n",
    "path = \"C://temp_schmetterling\"\n",
    "if os.path.exists(path):\n",
    "    os.remove(path)"
   ]
  },
  {
   "cell_type": "code",
   "execution_count": null,
   "id": "051e6d17",
   "metadata": {},
   "outputs": [],
   "source": [
    "path_file_map = \"C://temp_schmetterling//map.png\" ## Bild von Ingazio (Map)\n",
    "path_file_elevation = \"C://temp_schmetterling//elevation.png\" ## Bild von Ingazio (Elevation)\n",
    "path = \"C://temp_schmetterling\"\n",
    "\n",
    "if os.path.exists(path_file_map):\n",
    "    os.remove(path_file_map)\n",
    "\n",
    "if os.path.exists(path_file_elevation):\n",
    "    os.remove(path_file_elevation)\n",
    "\n",
    "if os.path.exists(path):\n",
    "    os.rmdir(path)\n"
   ]
  }
 ],
 "metadata": {
  "kernelspec": {
   "display_name": "4040Hackathon_py313",
   "language": "python",
   "name": "python3"
  },
  "language_info": {
   "codemirror_mode": {
    "name": "ipython",
    "version": 3
   },
   "file_extension": ".py",
   "mimetype": "text/x-python",
   "name": "python",
   "nbconvert_exporter": "python",
   "pygments_lexer": "ipython3",
   "version": "3.13.2"
  }
 },
 "nbformat": 4,
 "nbformat_minor": 5
}
