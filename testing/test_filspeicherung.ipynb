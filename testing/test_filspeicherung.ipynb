{
 "cells": [
  {
   "cell_type": "code",
   "execution_count": 2,
   "id": "99314971",
   "metadata": {},
   "outputs": [],
   "source": [
    "import os"
   ]
  },
  {
   "cell_type": "code",
   "execution_count": 3,
   "id": "68fd4715",
   "metadata": {},
   "outputs": [],
   "source": [
    "path = \"C://temp_schmetterling\"\n",
    "if not os.path.exists(path):\n",
    "    os.mkdir(path)"
   ]
  },
  {
   "cell_type": "code",
   "execution_count": 5,
   "id": "32940269",
   "metadata": {},
   "outputs": [
    {
     "name": "stdout",
     "output_type": "stream",
     "text": [
      "C://temp_schmetterling\\img.png\n"
     ]
    }
   ],
   "source": [
    "path_file = os.path.join(path, \"img.png\")\n",
    "\n",
    "print(path_file)"
   ]
  },
  {
   "cell_type": "code",
   "execution_count": null,
   "id": "752cedc3",
   "metadata": {},
   "outputs": [],
   "source": [
    "path_file = \"C://temp_schmetterling//map.png\" ## Bild von Ingazio (Map)\n",
    "path_file = \"C://temp_schmetterling//elevation.png\" ## Bild von Ingazio (Elevation)\n",
    "\n",
    "path = \"C://temp_schmetterling\"\n",
    "if os.path.exists(path):\n",
    "    os.remove(path)"
   ]
  }
 ],
 "metadata": {
  "kernelspec": {
   "display_name": "4040Hackathon_py313",
   "language": "python",
   "name": "python3"
  },
  "language_info": {
   "codemirror_mode": {
    "name": "ipython",
    "version": 3
   },
   "file_extension": ".py",
   "mimetype": "text/x-python",
   "name": "python",
   "nbconvert_exporter": "python",
   "pygments_lexer": "ipython3",
   "version": "3.13.2"
  }
 },
 "nbformat": 4,
 "nbformat_minor": 5
}
