{
 "cells": [
  {
   "cell_type": "code",
   "execution_count": 1,
   "id": "99314971",
   "metadata": {},
   "outputs": [],
   "source": [
    "import os"
   ]
  },
  {
   "cell_type": "code",
   "execution_count": 2,
   "id": "68fd4715",
   "metadata": {},
   "outputs": [],
   "source": [
    "path = \"C://temp_schmetterling\"\n",
    "if not os.path.exists(path):\n",
    "    os.mkdir(path)"
   ]
  },
  {
   "cell_type": "code",
   "execution_count": null,
   "id": "752cedc3",
   "metadata": {},
   "outputs": [],
   "source": [
    "path = \"C://temp_schmetterling\"\n",
    "if os.path.exists(path):\n",
    "    os.remove(path)"
   ]
  }
 ],
 "metadata": {
  "kernelspec": {
   "display_name": "4040Hackathon_py313",
   "language": "python",
   "name": "python3"
  },
  "language_info": {
   "codemirror_mode": {
    "name": "ipython",
    "version": 3
   },
   "file_extension": ".py",
   "mimetype": "text/x-python",
   "name": "python",
   "nbconvert_exporter": "python",
   "pygments_lexer": "ipython3",
   "version": "3.13.2"
  }
 },
 "nbformat": 4,
 "nbformat_minor": 5
}
