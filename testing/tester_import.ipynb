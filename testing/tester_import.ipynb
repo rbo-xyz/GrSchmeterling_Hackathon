{
 "cells": [
  {
   "cell_type": "code",
   "execution_count": 1,
   "id": "1838ba8b",
   "metadata": {},
   "outputs": [],
   "source": [
    "import sys\n",
    "from pathlib import Path\n",
    "\n",
    "# einen Pfad relativ zum Notebook bauen\n",
    "root = Path().resolve().parent  # wenn test.ipynb in testing_rbo/, geht parent auf Dein Projekt-Root\n",
    "src  = root / \"src\"\n",
    "sys.path.insert(0, str(src))\n",
    "\n",
    "# jetzt kennt Python import_gpx.py\n",
    "from import_gpx import import_gpx"
   ]
  },
  {
   "cell_type": "code",
   "execution_count": 2,
   "id": "67086ec3",
   "metadata": {},
   "outputs": [],
   "source": [
    "# from import_gpx import import_gpx"
   ]
  },
  {
   "cell_type": "code",
   "execution_count": 3,
   "id": "ae49d8e4",
   "metadata": {},
   "outputs": [],
   "source": [
    "filepath = \"../data/7-gipfel-tour-flumserberg.gpx\""
   ]
  },
  {
   "cell_type": "code",
   "execution_count": 4,
   "id": "fe43d282",
   "metadata": {},
   "outputs": [],
   "source": [
    "gdf = import_gpx(filepath)"
   ]
  },
  {
   "cell_type": "code",
   "execution_count": 5,
   "id": "107c7729",
   "metadata": {},
   "outputs": [
    {
     "data": {
      "text/html": [
       "<div>\n",
       "<style scoped>\n",
       "    .dataframe tbody tr th:only-of-type {\n",
       "        vertical-align: middle;\n",
       "    }\n",
       "\n",
       "    .dataframe tbody tr th {\n",
       "        vertical-align: top;\n",
       "    }\n",
       "\n",
       "    .dataframe thead th {\n",
       "        text-align: right;\n",
       "    }\n",
       "</style>\n",
       "<table border=\"1\" class=\"dataframe\">\n",
       "  <thead>\n",
       "    <tr style=\"text-align: right;\">\n",
       "      <th></th>\n",
       "      <th>segment_id</th>\n",
       "      <th>von_pkt_name</th>\n",
       "      <th>von_pkt_geom</th>\n",
       "      <th>bis_pkt_name</th>\n",
       "      <th>bis_pkt_geom</th>\n",
       "      <th>segment_geom</th>\n",
       "    </tr>\n",
       "  </thead>\n",
       "  <tbody>\n",
       "    <tr>\n",
       "      <th>0</th>\n",
       "      <td>1</td>\n",
       "      <td>Startpunkt</td>\n",
       "      <td>POINT Z (2737832.731 1214786.689 1974.2)</td>\n",
       "      <td>Ziel</td>\n",
       "      <td>POINT Z (2739850.838 1217402.568 1379.8)</td>\n",
       "      <td>LINESTRING Z (2737832.731 1214786.689 1974.2, ...</td>\n",
       "    </tr>\n",
       "  </tbody>\n",
       "</table>\n",
       "</div>"
      ],
      "text/plain": [
       "   segment_id von_pkt_name                              von_pkt_geom  \\\n",
       "0           1   Startpunkt  POINT Z (2737832.731 1214786.689 1974.2)   \n",
       "\n",
       "  bis_pkt_name                              bis_pkt_geom  \\\n",
       "0         Ziel  POINT Z (2739850.838 1217402.568 1379.8)   \n",
       "\n",
       "                                        segment_geom  \n",
       "0  LINESTRING Z (2737832.731 1214786.689 1974.2, ...  "
      ]
     },
     "execution_count": 5,
     "metadata": {},
     "output_type": "execute_result"
    }
   ],
   "source": [
    "gdf"
   ]
  },
  {
   "cell_type": "code",
   "execution_count": 6,
   "id": "c7b0ae59",
   "metadata": {},
   "outputs": [
    {
     "data": {
      "text/plain": [
       "<Axes: >"
      ]
     },
     "execution_count": 6,
     "metadata": {},
     "output_type": "execute_result"
    },
    {
     "data": {
      "image/png": "[encoded data removed]",
      "text/plain": [
       "<Figure size 640x480 with 1 Axes>"
      ]
     },
     "metadata": {},
     "output_type": "display_data"
    }
   ],
   "source": [
    "gdf.plot()"
   ]
  },
  {
   "cell_type": "code",
   "execution_count": 7,
   "id": "f27d5346",
   "metadata": {},
   "outputs": [],
   "source": [
    "filepath_v2 = \"../data/first_Testdata_Muttenz.gpx\""
   ]
  },
  {
   "cell_type": "code",
   "execution_count": 8,
   "id": "0c9c66c7",
   "metadata": {},
   "outputs": [],
   "source": [
    "gdf_v2 = import_gpx(filepath_v2)"
   ]
  },
  {
   "cell_type": "code",
   "execution_count": 9,
   "id": "26316537",
   "metadata": {},
   "outputs": [
    {
     "data": {
      "text/html": [
       "<div>\n",
       "<style scoped>\n",
       "    .dataframe tbody tr th:only-of-type {\n",
       "        vertical-align: middle;\n",
       "    }\n",
       "\n",
       "    .dataframe tbody tr th {\n",
       "        vertical-align: top;\n",
       "    }\n",
       "\n",
       "    .dataframe thead th {\n",
       "        text-align: right;\n",
       "    }\n",
       "</style>\n",
       "<table border=\"1\" class=\"dataframe\">\n",
       "  <thead>\n",
       "    <tr style=\"text-align: right;\">\n",
       "      <th></th>\n",
       "      <th>segment_id</th>\n",
       "      <th>von_pkt_name</th>\n",
       "      <th>von_pkt_geom</th>\n",
       "      <th>bis_pkt_name</th>\n",
       "      <th>bis_pkt_geom</th>\n",
       "      <th>segment_geom</th>\n",
       "    </tr>\n",
       "  </thead>\n",
       "  <tbody>\n",
       "    <tr>\n",
       "      <th>0</th>\n",
       "      <td>1</td>\n",
       "      <td>Startpunkt</td>\n",
       "      <td>POINT Z (2615292.286 1264887.924 279.7)</td>\n",
       "      <td>Hintere Burg</td>\n",
       "      <td>POINT Z (2616488.117 1263427.786 431.5)</td>\n",
       "      <td>LINESTRING Z (2615292.286 1264887.924 279.7, 2...</td>\n",
       "    </tr>\n",
       "    <tr>\n",
       "      <th>1</th>\n",
       "      <td>2</td>\n",
       "      <td>Hintere Burg</td>\n",
       "      <td>POINT Z (2616488.117 1263427.786 431.5)</td>\n",
       "      <td>Mittlere Burg</td>\n",
       "      <td>POINT Z (2616298.894 1263194.66 476.4)</td>\n",
       "      <td>LINESTRING Z (2616488.117 1263427.786 431.5, 2...</td>\n",
       "    </tr>\n",
       "    <tr>\n",
       "      <th>2</th>\n",
       "      <td>3</td>\n",
       "      <td>Mittlere Burg</td>\n",
       "      <td>POINT Z (2616298.894 1263194.66 476.4)</td>\n",
       "      <td>Lecker Weinchen</td>\n",
       "      <td>POINT Z (2617072.551 1262557.063 411)</td>\n",
       "      <td>LINESTRING Z (2616298.894 1263194.66 476.4, 26...</td>\n",
       "    </tr>\n",
       "    <tr>\n",
       "      <th>3</th>\n",
       "      <td>4</td>\n",
       "      <td>Lecker Weinchen</td>\n",
       "      <td>POINT Z (2617072.551 1262557.063 411)</td>\n",
       "      <td>Schauenburg</td>\n",
       "      <td>POINT Z (2618037.624 1261126.735 568.2)</td>\n",
       "      <td>LINESTRING Z (2617072.551 1262557.063 411, 261...</td>\n",
       "    </tr>\n",
       "    <tr>\n",
       "      <th>4</th>\n",
       "      <td>5</td>\n",
       "      <td>Schauenburg</td>\n",
       "      <td>POINT Z (2618037.624 1261126.735 568.2)</td>\n",
       "      <td>Ende</td>\n",
       "      <td>POINT Z (2621085.137 1261293.638 310.5)</td>\n",
       "      <td>LINESTRING Z (2618037.624 1261126.735 568.2, 2...</td>\n",
       "    </tr>\n",
       "  </tbody>\n",
       "</table>\n",
       "</div>"
      ],
      "text/plain": [
       "   segment_id     von_pkt_name                             von_pkt_geom  \\\n",
       "0           1       Startpunkt  POINT Z (2615292.286 1264887.924 279.7)   \n",
       "1           2     Hintere Burg  POINT Z (2616488.117 1263427.786 431.5)   \n",
       "2           3    Mittlere Burg   POINT Z (2616298.894 1263194.66 476.4)   \n",
       "3           4  Lecker Weinchen    POINT Z (2617072.551 1262557.063 411)   \n",
       "4           5      Schauenburg  POINT Z (2618037.624 1261126.735 568.2)   \n",
       "\n",
       "      bis_pkt_name                             bis_pkt_geom  \\\n",
       "0     Hintere Burg  POINT Z (2616488.117 1263427.786 431.5)   \n",
       "1    Mittlere Burg   POINT Z (2616298.894 1263194.66 476.4)   \n",
       "2  Lecker Weinchen    POINT Z (2617072.551 1262557.063 411)   \n",
       "3      Schauenburg  POINT Z (2618037.624 1261126.735 568.2)   \n",
       "4             Ende  POINT Z (2621085.137 1261293.638 310.5)   \n",
       "\n",
       "                                        segment_geom  \n",
       "0  LINESTRING Z (2615292.286 1264887.924 279.7, 2...  \n",
       "1  LINESTRING Z (2616488.117 1263427.786 431.5, 2...  \n",
       "2  LINESTRING Z (2616298.894 1263194.66 476.4, 26...  \n",
       "3  LINESTRING Z (2617072.551 1262557.063 411, 261...  \n",
       "4  LINESTRING Z (2618037.624 1261126.735 568.2, 2...  "
      ]
     },
     "execution_count": 9,
     "metadata": {},
     "output_type": "execute_result"
    }
   ],
   "source": [
    "gdf_v2"
   ]
  },
  {
   "cell_type": "code",
   "execution_count": 10,
   "id": "1cf85c11",
   "metadata": {},
   "outputs": [
    {
     "name": "stdout",
     "output_type": "stream",
     "text": [
      "<class 'geopandas.geodataframe.GeoDataFrame'>\n",
      "RangeIndex: 1 entries, 0 to 0\n",
      "Data columns (total 6 columns):\n",
      " #   Column        Non-Null Count  Dtype   \n",
      "---  ------        --------------  -----   \n",
      " 0   segment_id    1 non-null      int16   \n",
      " 1   von_pkt_name  1 non-null      object  \n",
      " 2   von_pkt_geom  1 non-null      geometry\n",
      " 3   bis_pkt_name  1 non-null      object  \n",
      " 4   bis_pkt_geom  1 non-null      geometry\n",
      " 5   segment_geom  1 non-null      geometry\n",
      "dtypes: geometry(3), int16(1), object(2)\n",
      "memory usage: 174.0+ bytes\n"
     ]
    }
   ],
   "source": [
    "gdf.info()"
   ]
  },
  {
   "cell_type": "code",
   "execution_count": 11,
   "id": "f2017483",
   "metadata": {},
   "outputs": [
    {
     "name": "stdout",
     "output_type": "stream",
     "text": [
      "<class 'geopandas.geodataframe.GeoDataFrame'>\n",
      "RangeIndex: 5 entries, 0 to 4\n",
      "Data columns (total 6 columns):\n",
      " #   Column        Non-Null Count  Dtype   \n",
      "---  ------        --------------  -----   \n",
      " 0   segment_id    5 non-null      int16   \n",
      " 1   von_pkt_name  5 non-null      object  \n",
      " 2   von_pkt_geom  5 non-null      geometry\n",
      " 3   bis_pkt_name  5 non-null      object  \n",
      " 4   bis_pkt_geom  5 non-null      geometry\n",
      " 5   segment_geom  5 non-null      geometry\n",
      "dtypes: geometry(3), int16(1), object(2)\n",
      "memory usage: 342.0+ bytes\n"
     ]
    }
   ],
   "source": [
    "gdf_v2.info()"
   ]
  },
  {
   "cell_type": "code",
   "execution_count": 12,
   "id": "8ab4ff79",
   "metadata": {},
   "outputs": [
    {
     "data": {
      "text/plain": [
       "<Axes: >"
      ]
     },
     "execution_count": 12,
     "metadata": {},
     "output_type": "execute_result"
    },
    {
     "data": {
      "image/png": "[encoded data removed]",
      "text/plain": [
       "<Figure size 640x480 with 1 Axes>"
      ]
     },
     "metadata": {},
     "output_type": "display_data"
    }
   ],
   "source": [
    "gdf_v2.plot()"
   ]
  },
  {
   "cell_type": "code",
   "execution_count": 13,
   "id": "86a43c00",
   "metadata": {},
   "outputs": [],
   "source": [
    "path = \"../data/second_Testdata_Arosa.gpx\""
   ]
  },
  {
   "cell_type": "code",
   "execution_count": 14,
   "id": "928824f7",
   "metadata": {},
   "outputs": [],
   "source": [
    "gdf_v3 = import_gpx(path)"
   ]
  },
  {
   "cell_type": "code",
   "execution_count": 15,
   "id": "ec1821fd",
   "metadata": {},
   "outputs": [
    {
     "data": {
      "text/html": [
       "<div>\n",
       "<style scoped>\n",
       "    .dataframe tbody tr th:only-of-type {\n",
       "        vertical-align: middle;\n",
       "    }\n",
       "\n",
       "    .dataframe tbody tr th {\n",
       "        vertical-align: top;\n",
       "    }\n",
       "\n",
       "    .dataframe thead th {\n",
       "        text-align: right;\n",
       "    }\n",
       "</style>\n",
       "<table border=\"1\" class=\"dataframe\">\n",
       "  <thead>\n",
       "    <tr style=\"text-align: right;\">\n",
       "      <th></th>\n",
       "      <th>segment_id</th>\n",
       "      <th>von_pkt_name</th>\n",
       "      <th>von_pkt_geom</th>\n",
       "      <th>bis_pkt_name</th>\n",
       "      <th>bis_pkt_geom</th>\n",
       "      <th>segment_geom</th>\n",
       "    </tr>\n",
       "  </thead>\n",
       "  <tbody>\n",
       "    <tr>\n",
       "      <th>0</th>\n",
       "      <td>1</td>\n",
       "      <td>Start - Arosa Isel</td>\n",
       "      <td>POINT Z (2771363.006 1182944.671 1619.8)</td>\n",
       "      <td>Talboden</td>\n",
       "      <td>POINT Z (2771631.169 1182149.947 1642.7)</td>\n",
       "      <td>LINESTRING Z (2771363.006 1182944.671 1619.8, ...</td>\n",
       "    </tr>\n",
       "    <tr>\n",
       "      <th>1</th>\n",
       "      <td>2</td>\n",
       "      <td>Talboden</td>\n",
       "      <td>POINT Z (2771631.169 1182149.947 1642.7)</td>\n",
       "      <td>Wasserfall</td>\n",
       "      <td>POINT Z (2771672.973 1181859.38 1660.2)</td>\n",
       "      <td>LINESTRING Z (2771631.169 1182149.947 1642.7, ...</td>\n",
       "    </tr>\n",
       "    <tr>\n",
       "      <th>2</th>\n",
       "      <td>3</td>\n",
       "      <td>Wasserfall</td>\n",
       "      <td>POINT Z (2771672.973 1181859.38 1660.2)</td>\n",
       "      <td>Sattel Alteiner</td>\n",
       "      <td>POINT Z (2772048.846 1181239.261 1952.8)</td>\n",
       "      <td>LINESTRING Z (2771672.973 1181859.38 1660.2, 2...</td>\n",
       "    </tr>\n",
       "    <tr>\n",
       "      <th>3</th>\n",
       "      <td>4</td>\n",
       "      <td>Sattel Alteiner</td>\n",
       "      <td>POINT Z (2772048.846 1181239.261 1952.8)</td>\n",
       "      <td>Altein</td>\n",
       "      <td>POINT Z (2772884.396 1180425.213 2271.4)</td>\n",
       "      <td>LINESTRING Z (2772048.846 1181239.261 1952.8, ...</td>\n",
       "    </tr>\n",
       "    <tr>\n",
       "      <th>4</th>\n",
       "      <td>5</td>\n",
       "      <td>Altein</td>\n",
       "      <td>POINT Z (2772884.396 1180425.213 2271.4)</td>\n",
       "      <td>Schiesshornbode</td>\n",
       "      <td>POINT Z (2773192.438 1181617.741 2428.5)</td>\n",
       "      <td>LINESTRING Z (2772884.396 1180425.213 2271.4, ...</td>\n",
       "    </tr>\n",
       "    <tr>\n",
       "      <th>5</th>\n",
       "      <td>6</td>\n",
       "      <td>Schiesshornbode</td>\n",
       "      <td>POINT Z (2773192.438 1181617.741 2428.5)</td>\n",
       "      <td>Obersäss Sattel</td>\n",
       "      <td>POINT Z (2773796.352 1182123.088 2315.5)</td>\n",
       "      <td>LINESTRING Z (2773192.438 1181617.741 2428.5, ...</td>\n",
       "    </tr>\n",
       "    <tr>\n",
       "      <th>6</th>\n",
       "      <td>7</td>\n",
       "      <td>Obersäss Sattel</td>\n",
       "      <td>POINT Z (2773796.352 1182123.088 2315.5)</td>\n",
       "      <td>Talboden</td>\n",
       "      <td>POINT Z (2772192.138 1182893.917 1664)</td>\n",
       "      <td>LINESTRING Z (2773796.352 1182123.088 2315.5, ...</td>\n",
       "    </tr>\n",
       "    <tr>\n",
       "      <th>7</th>\n",
       "      <td>8</td>\n",
       "      <td>Talboden</td>\n",
       "      <td>POINT Z (2772192.138 1182893.917 1664)</td>\n",
       "      <td>Ende Arosa Isel</td>\n",
       "      <td>POINT Z (2771346.867 1182941.387 1619.9)</td>\n",
       "      <td>LINESTRING Z (2772192.138 1182893.917 1664, 27...</td>\n",
       "    </tr>\n",
       "  </tbody>\n",
       "</table>\n",
       "</div>"
      ],
      "text/plain": [
       "   segment_id        von_pkt_name                              von_pkt_geom  \\\n",
       "0           1  Start - Arosa Isel  POINT Z (2771363.006 1182944.671 1619.8)   \n",
       "1           2            Talboden  POINT Z (2771631.169 1182149.947 1642.7)   \n",
       "2           3          Wasserfall   POINT Z (2771672.973 1181859.38 1660.2)   \n",
       "3           4     Sattel Alteiner  POINT Z (2772048.846 1181239.261 1952.8)   \n",
       "4           5              Altein  POINT Z (2772884.396 1180425.213 2271.4)   \n",
       "5           6     Schiesshornbode  POINT Z (2773192.438 1181617.741 2428.5)   \n",
       "6           7     Obersäss Sattel  POINT Z (2773796.352 1182123.088 2315.5)   \n",
       "7           8            Talboden    POINT Z (2772192.138 1182893.917 1664)   \n",
       "\n",
       "      bis_pkt_name                              bis_pkt_geom  \\\n",
       "0         Talboden  POINT Z (2771631.169 1182149.947 1642.7)   \n",
       "1       Wasserfall   POINT Z (2771672.973 1181859.38 1660.2)   \n",
       "2  Sattel Alteiner  POINT Z (2772048.846 1181239.261 1952.8)   \n",
       "3           Altein  POINT Z (2772884.396 1180425.213 2271.4)   \n",
       "4  Schiesshornbode  POINT Z (2773192.438 1181617.741 2428.5)   \n",
       "5  Obersäss Sattel  POINT Z (2773796.352 1182123.088 2315.5)   \n",
       "6         Talboden    POINT Z (2772192.138 1182893.917 1664)   \n",
       "7  Ende Arosa Isel  POINT Z (2771346.867 1182941.387 1619.9)   \n",
       "\n",
       "                                        segment_geom  \n",
       "0  LINESTRING Z (2771363.006 1182944.671 1619.8, ...  \n",
       "1  LINESTRING Z (2771631.169 1182149.947 1642.7, ...  \n",
       "2  LINESTRING Z (2771672.973 1181859.38 1660.2, 2...  \n",
       "3  LINESTRING Z (2772048.846 1181239.261 1952.8, ...  \n",
       "4  LINESTRING Z (2772884.396 1180425.213 2271.4, ...  \n",
       "5  LINESTRING Z (2773192.438 1181617.741 2428.5, ...  \n",
       "6  LINESTRING Z (2773796.352 1182123.088 2315.5, ...  \n",
       "7  LINESTRING Z (2772192.138 1182893.917 1664, 27...  "
      ]
     },
     "execution_count": 15,
     "metadata": {},
     "output_type": "execute_result"
    }
   ],
   "source": [
    "gdf_v3"
   ]
  },
  {
   "cell_type": "code",
   "execution_count": 16,
   "id": "8e9dcf2e",
   "metadata": {},
   "outputs": [
    {
     "data": {
      "text/plain": [
       "<Axes: >"
      ]
     },
     "execution_count": 16,
     "metadata": {},
     "output_type": "execute_result"
    },
    {
     "data": {
      "image/png": "[encoded data removed]",
      "text/plain": [
       "<Figure size 640x480 with 1 Axes>"
      ]
     },
     "metadata": {},
     "output_type": "display_data"
    }
   ],
   "source": [
    "gdf_v3.plot()"
   ]
  }
 ],
 "metadata": {
  "kernelspec": {
   "display_name": "4040Hackathon_py313",
   "language": "python",
   "name": "python3"
  },
  "language_info": {
   "codemirror_mode": {
    "name": "ipython",
    "version": 3
   },
   "file_extension": ".py",
   "mimetype": "text/x-python",
   "name": "python",
   "nbconvert_exporter": "python",
   "pygments_lexer": "ipython3",
   "version": "3.13.2"
  }
 },
 "nbformat": 4,
 "nbformat_minor": 5
}
